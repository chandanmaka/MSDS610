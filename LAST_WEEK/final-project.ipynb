{
 "cells": [
  {
   "cell_type": "markdown",
   "metadata": {},
   "source": [
    "# Part 1 : Selecting Scenario"
   ]
  },
  {
   "cell_type": "markdown",
   "metadata": {},
   "source": [
    "#### You and a group of friends are considering purchasing a property in Chicago that you can use as an investment. You have heard from other people that they have made a lot of money by renting out either a room or an entire unit (apartment or house). Your friends ask you to analyze data so that they can understand how much you would charge per night based on the type of dwelling you were to purchase. \n"
   ]
  },
  {
   "cell_type": "markdown",
   "metadata": {},
   "source": [
    "# Part 2 : Splitting and Storing data"
   ]
  },
  {
   "cell_type": "markdown",
   "metadata": {},
   "source": [
    "I have choose to work with Airbnb data from chicago. So Firstly lets get the dataset from the provided source."
   ]
  },
  {
   "cell_type": "code",
   "execution_count": 66,
   "metadata": {},
   "outputs": [],
   "source": [
    "from sqlalchemy import create_engine\n",
    "import pandas as pd\n",
    "import numpy as np\n",
    "from sklearn.ensemble import RandomForestRegressor\n",
    "from sklearn.model_selection import train_test_split\n",
    "from sklearn.inspection import permutation_importance\n",
    "from sklearn.metrics import mean_absolute_error, mean_squared_error, r2_score\n"
   ]
  },
  {
   "cell_type": "markdown",
   "metadata": {},
   "source": [
    "I have used the kagglehub package to download the dataset from kaggle. And then I read the data from the downloaded file into a pandas dataframe."
   ]
  },
  {
   "cell_type": "code",
   "execution_count": 67,
   "metadata": {},
   "outputs": [
    {
     "name": "stdout",
     "output_type": "stream",
     "text": [
      "Path to dataset files: C:\\Users\\chandan\\.cache\\kagglehub\\datasets\\jinbonnie\\chicago-airbnb-open-data\\versions\\2\n"
     ]
    }
   ],
   "source": [
    "import kagglehub\n",
    "\n",
    "# Download latest version\n",
    "path = kagglehub.dataset_download(\"jinbonnie/chicago-airbnb-open-data\")\n",
    "\n",
    "print(\"Path to dataset files:\", path)"
   ]
  },
  {
   "cell_type": "markdown",
   "metadata": {},
   "source": [
    "I have downloaded the dataset and read it into a pandas dataframe."
   ]
  },
  {
   "cell_type": "code",
   "execution_count": 68,
   "metadata": {},
   "outputs": [],
   "source": [
    "initial_data = pd.read_csv('listings.csv')"
   ]
  },
  {
   "cell_type": "markdown",
   "metadata": {},
   "source": [
    "I have loaded the dataset and printed its basic information. "
   ]
  },
  {
   "cell_type": "code",
   "execution_count": 69,
   "metadata": {},
   "outputs": [
    {
     "name": "stdout",
     "output_type": "stream",
     "text": [
      "<class 'pandas.core.frame.DataFrame'>\n",
      "RangeIndex: 6397 entries, 0 to 6396\n",
      "Data columns (total 16 columns):\n",
      " #   Column                          Non-Null Count  Dtype  \n",
      "---  ------                          --------------  -----  \n",
      " 0   id                              6397 non-null   int64  \n",
      " 1   name                            6397 non-null   object \n",
      " 2   host_id                         6397 non-null   int64  \n",
      " 3   host_name                       6397 non-null   object \n",
      " 4   neighbourhood_group             0 non-null      float64\n",
      " 5   neighbourhood                   6397 non-null   object \n",
      " 6   latitude                        6397 non-null   float64\n",
      " 7   longitude                       6397 non-null   float64\n",
      " 8   room_type                       6397 non-null   object \n",
      " 9   price                           6397 non-null   int64  \n",
      " 10  minimum_nights                  6397 non-null   int64  \n",
      " 11  number_of_reviews               6397 non-null   int64  \n",
      " 12  last_review                     5265 non-null   object \n",
      " 13  reviews_per_month               5265 non-null   float64\n",
      " 14  calculated_host_listings_count  6397 non-null   int64  \n",
      " 15  availability_365                6397 non-null   int64  \n",
      "dtypes: float64(4), int64(7), object(5)\n",
      "memory usage: 799.8+ KB\n"
     ]
    }
   ],
   "source": [
    "initial_data.info()"
   ]
  },
  {
   "cell_type": "markdown",
   "metadata": {},
   "source": [
    "There are 48,895 rows and 16 columns in the dataset. There are some missing values in some columns. Those columns are : neighbourhood_group, last_review, reviews_per_month. I will check some data with head function to see the data."
   ]
  },
  {
   "cell_type": "code",
   "execution_count": 70,
   "metadata": {},
   "outputs": [
    {
     "data": {
      "text/html": [
       "<div>\n",
       "<style scoped>\n",
       "    .dataframe tbody tr th:only-of-type {\n",
       "        vertical-align: middle;\n",
       "    }\n",
       "\n",
       "    .dataframe tbody tr th {\n",
       "        vertical-align: top;\n",
       "    }\n",
       "\n",
       "    .dataframe thead th {\n",
       "        text-align: right;\n",
       "    }\n",
       "</style>\n",
       "<table border=\"1\" class=\"dataframe\">\n",
       "  <thead>\n",
       "    <tr style=\"text-align: right;\">\n",
       "      <th></th>\n",
       "      <th>id</th>\n",
       "      <th>name</th>\n",
       "      <th>host_id</th>\n",
       "      <th>host_name</th>\n",
       "      <th>neighbourhood_group</th>\n",
       "      <th>neighbourhood</th>\n",
       "      <th>latitude</th>\n",
       "      <th>longitude</th>\n",
       "      <th>room_type</th>\n",
       "      <th>price</th>\n",
       "      <th>minimum_nights</th>\n",
       "      <th>number_of_reviews</th>\n",
       "      <th>last_review</th>\n",
       "      <th>reviews_per_month</th>\n",
       "      <th>calculated_host_listings_count</th>\n",
       "      <th>availability_365</th>\n",
       "    </tr>\n",
       "  </thead>\n",
       "  <tbody>\n",
       "    <tr>\n",
       "      <th>0</th>\n",
       "      <td>2384</td>\n",
       "      <td>Hyde Park - Walk to UChicago, 10 min to McCormick</td>\n",
       "      <td>2613</td>\n",
       "      <td>Rebecca</td>\n",
       "      <td>NaN</td>\n",
       "      <td>Hyde Park</td>\n",
       "      <td>41.78790</td>\n",
       "      <td>-87.58780</td>\n",
       "      <td>Private room</td>\n",
       "      <td>60</td>\n",
       "      <td>2</td>\n",
       "      <td>178</td>\n",
       "      <td>2019-12-15</td>\n",
       "      <td>2.56</td>\n",
       "      <td>1</td>\n",
       "      <td>353</td>\n",
       "    </tr>\n",
       "    <tr>\n",
       "      <th>1</th>\n",
       "      <td>4505</td>\n",
       "      <td>394 Great Reviews. 127 y/o House. 40 yds to tr...</td>\n",
       "      <td>5775</td>\n",
       "      <td>Craig &amp; Kathleen</td>\n",
       "      <td>NaN</td>\n",
       "      <td>South Lawndale</td>\n",
       "      <td>41.85495</td>\n",
       "      <td>-87.69696</td>\n",
       "      <td>Entire home/apt</td>\n",
       "      <td>105</td>\n",
       "      <td>2</td>\n",
       "      <td>395</td>\n",
       "      <td>2020-07-14</td>\n",
       "      <td>2.81</td>\n",
       "      <td>1</td>\n",
       "      <td>155</td>\n",
       "    </tr>\n",
       "    <tr>\n",
       "      <th>2</th>\n",
       "      <td>7126</td>\n",
       "      <td>Tiny Studio Apartment 94 Walk Score</td>\n",
       "      <td>17928</td>\n",
       "      <td>Sarah</td>\n",
       "      <td>NaN</td>\n",
       "      <td>West Town</td>\n",
       "      <td>41.90289</td>\n",
       "      <td>-87.68182</td>\n",
       "      <td>Entire home/apt</td>\n",
       "      <td>60</td>\n",
       "      <td>2</td>\n",
       "      <td>384</td>\n",
       "      <td>2020-03-08</td>\n",
       "      <td>2.81</td>\n",
       "      <td>1</td>\n",
       "      <td>321</td>\n",
       "    </tr>\n",
       "    <tr>\n",
       "      <th>3</th>\n",
       "      <td>9811</td>\n",
       "      <td>Barbara's Hideaway - Old Town</td>\n",
       "      <td>33004</td>\n",
       "      <td>At Home Inn</td>\n",
       "      <td>NaN</td>\n",
       "      <td>Lincoln Park</td>\n",
       "      <td>41.91769</td>\n",
       "      <td>-87.63788</td>\n",
       "      <td>Entire home/apt</td>\n",
       "      <td>65</td>\n",
       "      <td>4</td>\n",
       "      <td>49</td>\n",
       "      <td>2019-10-23</td>\n",
       "      <td>0.63</td>\n",
       "      <td>9</td>\n",
       "      <td>300</td>\n",
       "    </tr>\n",
       "    <tr>\n",
       "      <th>4</th>\n",
       "      <td>10610</td>\n",
       "      <td>3 Comforts of Cooperative Living</td>\n",
       "      <td>2140</td>\n",
       "      <td>Lois</td>\n",
       "      <td>NaN</td>\n",
       "      <td>Hyde Park</td>\n",
       "      <td>41.79612</td>\n",
       "      <td>-87.59261</td>\n",
       "      <td>Private room</td>\n",
       "      <td>21</td>\n",
       "      <td>1</td>\n",
       "      <td>44</td>\n",
       "      <td>2020-02-14</td>\n",
       "      <td>0.61</td>\n",
       "      <td>5</td>\n",
       "      <td>168</td>\n",
       "    </tr>\n",
       "  </tbody>\n",
       "</table>\n",
       "</div>"
      ],
      "text/plain": [
       "      id                                               name  host_id  \\\n",
       "0   2384  Hyde Park - Walk to UChicago, 10 min to McCormick     2613   \n",
       "1   4505  394 Great Reviews. 127 y/o House. 40 yds to tr...     5775   \n",
       "2   7126                Tiny Studio Apartment 94 Walk Score    17928   \n",
       "3   9811                      Barbara's Hideaway - Old Town    33004   \n",
       "4  10610                   3 Comforts of Cooperative Living     2140   \n",
       "\n",
       "          host_name  neighbourhood_group   neighbourhood  latitude  longitude  \\\n",
       "0           Rebecca                  NaN       Hyde Park  41.78790  -87.58780   \n",
       "1  Craig & Kathleen                  NaN  South Lawndale  41.85495  -87.69696   \n",
       "2             Sarah                  NaN       West Town  41.90289  -87.68182   \n",
       "3       At Home Inn                  NaN    Lincoln Park  41.91769  -87.63788   \n",
       "4              Lois                  NaN       Hyde Park  41.79612  -87.59261   \n",
       "\n",
       "         room_type  price  minimum_nights  number_of_reviews last_review  \\\n",
       "0     Private room     60               2                178  2019-12-15   \n",
       "1  Entire home/apt    105               2                395  2020-07-14   \n",
       "2  Entire home/apt     60               2                384  2020-03-08   \n",
       "3  Entire home/apt     65               4                 49  2019-10-23   \n",
       "4     Private room     21               1                 44  2020-02-14   \n",
       "\n",
       "   reviews_per_month  calculated_host_listings_count  availability_365  \n",
       "0               2.56                               1               353  \n",
       "1               2.81                               1               155  \n",
       "2               2.81                               1               321  \n",
       "3               0.63                               9               300  \n",
       "4               0.61                               5               168  "
      ]
     },
     "execution_count": 70,
     "metadata": {},
     "output_type": "execute_result"
    }
   ],
   "source": [
    "initial_data.head()"
   ]
  },
  {
   "cell_type": "markdown",
   "metadata": {},
   "source": [
    "First thing first, lets split the 100 data from dataset for validation later and save it. the validation set will be used later and act as live data later on. The remaining data will be used for training our model."
   ]
  },
  {
   "cell_type": "code",
   "execution_count": 71,
   "metadata": {},
   "outputs": [],
   "source": [
    "validation_set = initial_data.sample(n=100, random_state=42)  \n",
    "\n",
    "# Get the remaining data for training\n",
    "training_set = initial_data.drop(validation_set.index)\n",
    "\n",
    "# Save the datasets if needed\n",
    "validation_set.to_csv(\"validation_set.csv\", index=False)\n",
    "training_set.to_csv(\"training_set.csv\", index=False)"
   ]
  },
  {
   "cell_type": "markdown",
   "metadata": {},
   "source": [
    "Lets reload the data that we save as training set by spliting 100 validation dataset."
   ]
  },
  {
   "cell_type": "code",
   "execution_count": 72,
   "metadata": {},
   "outputs": [
    {
     "data": {
      "text/html": [
       "<div>\n",
       "<style scoped>\n",
       "    .dataframe tbody tr th:only-of-type {\n",
       "        vertical-align: middle;\n",
       "    }\n",
       "\n",
       "    .dataframe tbody tr th {\n",
       "        vertical-align: top;\n",
       "    }\n",
       "\n",
       "    .dataframe thead th {\n",
       "        text-align: right;\n",
       "    }\n",
       "</style>\n",
       "<table border=\"1\" class=\"dataframe\">\n",
       "  <thead>\n",
       "    <tr style=\"text-align: right;\">\n",
       "      <th></th>\n",
       "      <th>id</th>\n",
       "      <th>name</th>\n",
       "      <th>host_id</th>\n",
       "      <th>host_name</th>\n",
       "      <th>neighbourhood_group</th>\n",
       "      <th>neighbourhood</th>\n",
       "      <th>latitude</th>\n",
       "      <th>longitude</th>\n",
       "      <th>room_type</th>\n",
       "      <th>price</th>\n",
       "      <th>minimum_nights</th>\n",
       "      <th>number_of_reviews</th>\n",
       "      <th>last_review</th>\n",
       "      <th>reviews_per_month</th>\n",
       "      <th>calculated_host_listings_count</th>\n",
       "      <th>availability_365</th>\n",
       "    </tr>\n",
       "  </thead>\n",
       "  <tbody>\n",
       "    <tr>\n",
       "      <th>0</th>\n",
       "      <td>2384</td>\n",
       "      <td>Hyde Park - Walk to UChicago, 10 min to McCormick</td>\n",
       "      <td>2613</td>\n",
       "      <td>Rebecca</td>\n",
       "      <td>NaN</td>\n",
       "      <td>Hyde Park</td>\n",
       "      <td>41.78790</td>\n",
       "      <td>-87.58780</td>\n",
       "      <td>Private room</td>\n",
       "      <td>60</td>\n",
       "      <td>2</td>\n",
       "      <td>178</td>\n",
       "      <td>2019-12-15</td>\n",
       "      <td>2.56</td>\n",
       "      <td>1</td>\n",
       "      <td>353</td>\n",
       "    </tr>\n",
       "    <tr>\n",
       "      <th>1</th>\n",
       "      <td>4505</td>\n",
       "      <td>394 Great Reviews. 127 y/o House. 40 yds to tr...</td>\n",
       "      <td>5775</td>\n",
       "      <td>Craig &amp; Kathleen</td>\n",
       "      <td>NaN</td>\n",
       "      <td>South Lawndale</td>\n",
       "      <td>41.85495</td>\n",
       "      <td>-87.69696</td>\n",
       "      <td>Entire home/apt</td>\n",
       "      <td>105</td>\n",
       "      <td>2</td>\n",
       "      <td>395</td>\n",
       "      <td>2020-07-14</td>\n",
       "      <td>2.81</td>\n",
       "      <td>1</td>\n",
       "      <td>155</td>\n",
       "    </tr>\n",
       "    <tr>\n",
       "      <th>2</th>\n",
       "      <td>7126</td>\n",
       "      <td>Tiny Studio Apartment 94 Walk Score</td>\n",
       "      <td>17928</td>\n",
       "      <td>Sarah</td>\n",
       "      <td>NaN</td>\n",
       "      <td>West Town</td>\n",
       "      <td>41.90289</td>\n",
       "      <td>-87.68182</td>\n",
       "      <td>Entire home/apt</td>\n",
       "      <td>60</td>\n",
       "      <td>2</td>\n",
       "      <td>384</td>\n",
       "      <td>2020-03-08</td>\n",
       "      <td>2.81</td>\n",
       "      <td>1</td>\n",
       "      <td>321</td>\n",
       "    </tr>\n",
       "    <tr>\n",
       "      <th>3</th>\n",
       "      <td>9811</td>\n",
       "      <td>Barbara's Hideaway - Old Town</td>\n",
       "      <td>33004</td>\n",
       "      <td>At Home Inn</td>\n",
       "      <td>NaN</td>\n",
       "      <td>Lincoln Park</td>\n",
       "      <td>41.91769</td>\n",
       "      <td>-87.63788</td>\n",
       "      <td>Entire home/apt</td>\n",
       "      <td>65</td>\n",
       "      <td>4</td>\n",
       "      <td>49</td>\n",
       "      <td>2019-10-23</td>\n",
       "      <td>0.63</td>\n",
       "      <td>9</td>\n",
       "      <td>300</td>\n",
       "    </tr>\n",
       "    <tr>\n",
       "      <th>4</th>\n",
       "      <td>10610</td>\n",
       "      <td>3 Comforts of Cooperative Living</td>\n",
       "      <td>2140</td>\n",
       "      <td>Lois</td>\n",
       "      <td>NaN</td>\n",
       "      <td>Hyde Park</td>\n",
       "      <td>41.79612</td>\n",
       "      <td>-87.59261</td>\n",
       "      <td>Private room</td>\n",
       "      <td>21</td>\n",
       "      <td>1</td>\n",
       "      <td>44</td>\n",
       "      <td>2020-02-14</td>\n",
       "      <td>0.61</td>\n",
       "      <td>5</td>\n",
       "      <td>168</td>\n",
       "    </tr>\n",
       "  </tbody>\n",
       "</table>\n",
       "</div>"
      ],
      "text/plain": [
       "      id                                               name  host_id  \\\n",
       "0   2384  Hyde Park - Walk to UChicago, 10 min to McCormick     2613   \n",
       "1   4505  394 Great Reviews. 127 y/o House. 40 yds to tr...     5775   \n",
       "2   7126                Tiny Studio Apartment 94 Walk Score    17928   \n",
       "3   9811                      Barbara's Hideaway - Old Town    33004   \n",
       "4  10610                   3 Comforts of Cooperative Living     2140   \n",
       "\n",
       "          host_name  neighbourhood_group   neighbourhood  latitude  longitude  \\\n",
       "0           Rebecca                  NaN       Hyde Park  41.78790  -87.58780   \n",
       "1  Craig & Kathleen                  NaN  South Lawndale  41.85495  -87.69696   \n",
       "2             Sarah                  NaN       West Town  41.90289  -87.68182   \n",
       "3       At Home Inn                  NaN    Lincoln Park  41.91769  -87.63788   \n",
       "4              Lois                  NaN       Hyde Park  41.79612  -87.59261   \n",
       "\n",
       "         room_type  price  minimum_nights  number_of_reviews last_review  \\\n",
       "0     Private room     60               2                178  2019-12-15   \n",
       "1  Entire home/apt    105               2                395  2020-07-14   \n",
       "2  Entire home/apt     60               2                384  2020-03-08   \n",
       "3  Entire home/apt     65               4                 49  2019-10-23   \n",
       "4     Private room     21               1                 44  2020-02-14   \n",
       "\n",
       "   reviews_per_month  calculated_host_listings_count  availability_365  \n",
       "0               2.56                               1               353  \n",
       "1               2.81                               1               155  \n",
       "2               2.81                               1               321  \n",
       "3               0.63                               9               300  \n",
       "4               0.61                               5               168  "
      ]
     },
     "execution_count": 72,
     "metadata": {},
     "output_type": "execute_result"
    }
   ],
   "source": [
    "df = pd.read_csv('training_set.csv')\n",
    "df.head()"
   ]
  },
  {
   "cell_type": "markdown",
   "metadata": {},
   "source": [
    "Lets, load this dataset in raw schema of our database"
   ]
  },
  {
   "cell_type": "code",
   "execution_count": 73,
   "metadata": {},
   "outputs": [],
   "source": [
    "host = r'127.0.0.1' # denotes that the db in a local installation\n",
    "db = r'MSDS610' # db we just created\n",
    "user = r'postgres' # using the postgres user for this demo\n",
    "pw = r'postgres' # this is the password established during installation\n",
    "port = r'5432' # default port estabalished during install\n",
    " \n",
    "\n"
   ]
  },
  {
   "cell_type": "code",
   "execution_count": 74,
   "metadata": {},
   "outputs": [],
   "source": [
    "engine = create_engine(\"postgresql://{}:{}@{}:{}/{}\".format(user, pw, host, port, db))"
   ]
  },
  {
   "cell_type": "code",
   "execution_count": 75,
   "metadata": {},
   "outputs": [],
   "source": [
    "schema = r'raw'\n",
    "table = r'chicago_airbnb_raw'"
   ]
  },
  {
   "cell_type": "markdown",
   "metadata": {},
   "source": [
    "I have created a raw schema in my database and then stored the data from our pandas dataframe into this schema as table chicago_airbnb_raw."
   ]
  },
  {
   "cell_type": "code",
   "execution_count": 76,
   "metadata": {},
   "outputs": [
    {
     "data": {
      "text/plain": [
       "6297"
      ]
     },
     "execution_count": 76,
     "metadata": {},
     "output_type": "execute_result"
    }
   ],
   "source": [
    "df.to_sql(table, con=engine, if_exists='replace', index=False, schema=schema, chunksize=1000, method='multi')"
   ]
  },
  {
   "cell_type": "markdown",
   "metadata": {},
   "source": [
    "Here is the screenshot of the raw schema stored in database"
   ]
  },
  {
   "cell_type": "markdown",
   "metadata": {},
   "source": [
    "![raw_schema](raw_schema.png)"
   ]
  },
  {
   "cell_type": "markdown",
   "metadata": {},
   "source": [
    "# Part 3 –Data Definition and Analytical Question"
   ]
  },
  {
   "cell_type": "markdown",
   "metadata": {},
   "source": [
    "First, let's check the data types of our columns. There are several columns with mixed data types. We need to convert some of them to appropriate data types for further analysis. Columns contained integers, floats, and objects."
   ]
  },
  {
   "cell_type": "code",
   "execution_count": 77,
   "metadata": {},
   "outputs": [
    {
     "name": "stdout",
     "output_type": "stream",
     "text": [
      "id                                  int64\n",
      "name                               object\n",
      "host_id                             int64\n",
      "host_name                          object\n",
      "neighbourhood_group               float64\n",
      "neighbourhood                      object\n",
      "latitude                          float64\n",
      "longitude                         float64\n",
      "room_type                          object\n",
      "price                               int64\n",
      "minimum_nights                      int64\n",
      "number_of_reviews                   int64\n",
      "last_review                        object\n",
      "reviews_per_month                 float64\n",
      "calculated_host_listings_count      int64\n",
      "availability_365                    int64\n",
      "dtype: object\n"
     ]
    }
   ],
   "source": [
    "print(df.dtypes)"
   ]
  },
  {
   "cell_type": "markdown",
   "metadata": {},
   "source": [
    "\n",
    "### **Data Definition**\n",
    "\n",
    "| **Field Name**                     | **Description**                                           | **Data Type (Pandas dtype)**   | **Conceptual Type**          |\n",
    "|-------------------------------------|-----------------------------------------------------------|-------------------------------|-----------------------------|\n",
    "| `id`                                | Unique identifier for the listing                         | `int64`                        | **Discrete (Integer)**      |\n",
    "| `name`                              | Name of the Airbnb listing                                | `object`                       | **Nominal (String/Text)**   |\n",
    "| `host_id`                           | Unique identifier for the host                            | `int64`                        | **Discrete (Integer)**      |\n",
    "| `host_name`                         | Name of the host                                          | `object`                       | **Nominal (String/Text)**   |\n",
    "| `neighbourhood_group`               | Larger geographical area (if applicable)                 | `float64`                      | **Nominal (Categorical/Float)** |\n",
    "| `neighbourhood`                     | Specific neighborhood                                     | `object`                       | **Nominal (Categorical/String)** |\n",
    "| `latitude`                          | Geographical latitude of the listing                     | `float64`                      | **Continuous (Float)**      |\n",
    "| `longitude`                         | Geographical longitude of the listing                    | `float64`                      | **Continuous (Float)**      |\n",
    "| `room_type`                         | Type of room (Entire home, Private room, Shared room)    | `object`                       | **Nominal (Categorical/String)** |\n",
    "| `price`                             | Price per night in USD                                   | `int64`                        | **Continuous (Integer)**    |\n",
    "| `minimum_nights`                    | Minimum number of nights required to book                | `int64`                        | **Discrete (Integer)**      |\n",
    "| `number_of_reviews`                 | Total number of reviews                                  | `int64`                        | **Discrete (Integer)**      |\n",
    "| `last_review`                       | Date of the last review                                  | `object`                      | **Ordinal (Date/Datetime)** |\n",
    "| `reviews_per_month`                 | Average number of reviews per month                     | `float64`                      | **Continuous (Float)**      |\n",
    "| `calculated_host_listings_count`    | Total listings hosted by this host                       | `int64`                        | **Discrete (Integer)**      |\n",
    "| `availability_365`                  | Number of days available in a year                       | `int64`                        | **Discrete (Integer)**      |\n",
    "\n",
    "\n",
    "\n",
    "---\n",
    "\n",
    "### **Analytical Question**\n",
    "\n",
    "\n",
    "* **\"Based on the features of the dwelling we purchased what is the optimal price we should charge per the duration for a customer who stays?\"**\n",
    "* **Can we really predict the rental price based on these features?\"**\n",
    "\n",
    "- **Target Variable:** `price`\n",
    "- **Potential Predictors:** `room_type`, `neighbourhood`, `reviews_per_month`, `availability_365`, `number_of_reviews`, etc.\n",
    "\n"
   ]
  },
  {
   "cell_type": "markdown",
   "metadata": {},
   "source": [
    "# Part 4 – Data Prep and Feature Selection"
   ]
  },
  {
   "cell_type": "markdown",
   "metadata": {},
   "source": [
    "In this section we will be preparing the data for modeling. We will analyze the data and columns which will really contribute to our prediction and goal of the project. We need ro prepare the data by handling missing values, outliers, and encoding categorical variables. We will analyze each features and their realtionship."
   ]
  },
  {
   "cell_type": "code",
   "execution_count": 78,
   "metadata": {},
   "outputs": [
    {
     "name": "stdout",
     "output_type": "stream",
     "text": [
      "<class 'pandas.core.frame.DataFrame'>\n",
      "RangeIndex: 6297 entries, 0 to 6296\n",
      "Data columns (total 16 columns):\n",
      " #   Column                          Non-Null Count  Dtype  \n",
      "---  ------                          --------------  -----  \n",
      " 0   id                              6297 non-null   int64  \n",
      " 1   name                            6297 non-null   object \n",
      " 2   host_id                         6297 non-null   int64  \n",
      " 3   host_name                       6297 non-null   object \n",
      " 4   neighbourhood_group             0 non-null      float64\n",
      " 5   neighbourhood                   6297 non-null   object \n",
      " 6   latitude                        6297 non-null   float64\n",
      " 7   longitude                       6297 non-null   float64\n",
      " 8   room_type                       6297 non-null   object \n",
      " 9   price                           6297 non-null   int64  \n",
      " 10  minimum_nights                  6297 non-null   int64  \n",
      " 11  number_of_reviews               6297 non-null   int64  \n",
      " 12  last_review                     5183 non-null   object \n",
      " 13  reviews_per_month               5183 non-null   float64\n",
      " 14  calculated_host_listings_count  6297 non-null   int64  \n",
      " 15  availability_365                6297 non-null   int64  \n",
      "dtypes: float64(4), int64(7), object(5)\n",
      "memory usage: 787.2+ KB\n"
     ]
    }
   ],
   "source": [
    "df.info()"
   ]
  },
  {
   "cell_type": "code",
   "execution_count": 79,
   "metadata": {},
   "outputs": [
    {
     "data": {
      "text/html": [
       "<div>\n",
       "<style scoped>\n",
       "    .dataframe tbody tr th:only-of-type {\n",
       "        vertical-align: middle;\n",
       "    }\n",
       "\n",
       "    .dataframe tbody tr th {\n",
       "        vertical-align: top;\n",
       "    }\n",
       "\n",
       "    .dataframe thead th {\n",
       "        text-align: right;\n",
       "    }\n",
       "</style>\n",
       "<table border=\"1\" class=\"dataframe\">\n",
       "  <thead>\n",
       "    <tr style=\"text-align: right;\">\n",
       "      <th></th>\n",
       "      <th>id</th>\n",
       "      <th>name</th>\n",
       "      <th>host_id</th>\n",
       "      <th>host_name</th>\n",
       "      <th>neighbourhood_group</th>\n",
       "      <th>neighbourhood</th>\n",
       "      <th>latitude</th>\n",
       "      <th>longitude</th>\n",
       "      <th>room_type</th>\n",
       "      <th>price</th>\n",
       "      <th>minimum_nights</th>\n",
       "      <th>number_of_reviews</th>\n",
       "      <th>last_review</th>\n",
       "      <th>reviews_per_month</th>\n",
       "      <th>calculated_host_listings_count</th>\n",
       "      <th>availability_365</th>\n",
       "    </tr>\n",
       "  </thead>\n",
       "  <tbody>\n",
       "    <tr>\n",
       "      <th>0</th>\n",
       "      <td>2384</td>\n",
       "      <td>Hyde Park - Walk to UChicago, 10 min to McCormick</td>\n",
       "      <td>2613</td>\n",
       "      <td>Rebecca</td>\n",
       "      <td>NaN</td>\n",
       "      <td>Hyde Park</td>\n",
       "      <td>41.78790</td>\n",
       "      <td>-87.58780</td>\n",
       "      <td>Private room</td>\n",
       "      <td>60</td>\n",
       "      <td>2</td>\n",
       "      <td>178</td>\n",
       "      <td>2019-12-15</td>\n",
       "      <td>2.56</td>\n",
       "      <td>1</td>\n",
       "      <td>353</td>\n",
       "    </tr>\n",
       "    <tr>\n",
       "      <th>1</th>\n",
       "      <td>4505</td>\n",
       "      <td>394 Great Reviews. 127 y/o House. 40 yds to tr...</td>\n",
       "      <td>5775</td>\n",
       "      <td>Craig &amp; Kathleen</td>\n",
       "      <td>NaN</td>\n",
       "      <td>South Lawndale</td>\n",
       "      <td>41.85495</td>\n",
       "      <td>-87.69696</td>\n",
       "      <td>Entire home/apt</td>\n",
       "      <td>105</td>\n",
       "      <td>2</td>\n",
       "      <td>395</td>\n",
       "      <td>2020-07-14</td>\n",
       "      <td>2.81</td>\n",
       "      <td>1</td>\n",
       "      <td>155</td>\n",
       "    </tr>\n",
       "    <tr>\n",
       "      <th>2</th>\n",
       "      <td>7126</td>\n",
       "      <td>Tiny Studio Apartment 94 Walk Score</td>\n",
       "      <td>17928</td>\n",
       "      <td>Sarah</td>\n",
       "      <td>NaN</td>\n",
       "      <td>West Town</td>\n",
       "      <td>41.90289</td>\n",
       "      <td>-87.68182</td>\n",
       "      <td>Entire home/apt</td>\n",
       "      <td>60</td>\n",
       "      <td>2</td>\n",
       "      <td>384</td>\n",
       "      <td>2020-03-08</td>\n",
       "      <td>2.81</td>\n",
       "      <td>1</td>\n",
       "      <td>321</td>\n",
       "    </tr>\n",
       "    <tr>\n",
       "      <th>3</th>\n",
       "      <td>9811</td>\n",
       "      <td>Barbara's Hideaway - Old Town</td>\n",
       "      <td>33004</td>\n",
       "      <td>At Home Inn</td>\n",
       "      <td>NaN</td>\n",
       "      <td>Lincoln Park</td>\n",
       "      <td>41.91769</td>\n",
       "      <td>-87.63788</td>\n",
       "      <td>Entire home/apt</td>\n",
       "      <td>65</td>\n",
       "      <td>4</td>\n",
       "      <td>49</td>\n",
       "      <td>2019-10-23</td>\n",
       "      <td>0.63</td>\n",
       "      <td>9</td>\n",
       "      <td>300</td>\n",
       "    </tr>\n",
       "    <tr>\n",
       "      <th>4</th>\n",
       "      <td>10610</td>\n",
       "      <td>3 Comforts of Cooperative Living</td>\n",
       "      <td>2140</td>\n",
       "      <td>Lois</td>\n",
       "      <td>NaN</td>\n",
       "      <td>Hyde Park</td>\n",
       "      <td>41.79612</td>\n",
       "      <td>-87.59261</td>\n",
       "      <td>Private room</td>\n",
       "      <td>21</td>\n",
       "      <td>1</td>\n",
       "      <td>44</td>\n",
       "      <td>2020-02-14</td>\n",
       "      <td>0.61</td>\n",
       "      <td>5</td>\n",
       "      <td>168</td>\n",
       "    </tr>\n",
       "    <tr>\n",
       "      <th>5</th>\n",
       "      <td>10945</td>\n",
       "      <td>The Biddle House (#1)</td>\n",
       "      <td>33004</td>\n",
       "      <td>At Home Inn</td>\n",
       "      <td>NaN</td>\n",
       "      <td>Lincoln Park</td>\n",
       "      <td>41.91183</td>\n",
       "      <td>-87.64000</td>\n",
       "      <td>Entire home/apt</td>\n",
       "      <td>115</td>\n",
       "      <td>4</td>\n",
       "      <td>19</td>\n",
       "      <td>2020-08-06</td>\n",
       "      <td>0.24</td>\n",
       "      <td>9</td>\n",
       "      <td>325</td>\n",
       "    </tr>\n",
       "    <tr>\n",
       "      <th>6</th>\n",
       "      <td>12068</td>\n",
       "      <td>Chicago GOLD COAST 1 Bedroom Condo</td>\n",
       "      <td>40731</td>\n",
       "      <td>Dominic</td>\n",
       "      <td>NaN</td>\n",
       "      <td>Near North Side</td>\n",
       "      <td>41.90452</td>\n",
       "      <td>-87.63320</td>\n",
       "      <td>Entire home/apt</td>\n",
       "      <td>99</td>\n",
       "      <td>5</td>\n",
       "      <td>9</td>\n",
       "      <td>2019-01-14</td>\n",
       "      <td>0.13</td>\n",
       "      <td>1</td>\n",
       "      <td>316</td>\n",
       "    </tr>\n",
       "    <tr>\n",
       "      <th>7</th>\n",
       "      <td>12140</td>\n",
       "      <td>Lincoln Park Guest House</td>\n",
       "      <td>46734</td>\n",
       "      <td>Sharon And Robert</td>\n",
       "      <td>NaN</td>\n",
       "      <td>Lincoln Park</td>\n",
       "      <td>41.92335</td>\n",
       "      <td>-87.64951</td>\n",
       "      <td>Private room</td>\n",
       "      <td>289</td>\n",
       "      <td>2</td>\n",
       "      <td>4</td>\n",
       "      <td>2018-10-17</td>\n",
       "      <td>0.06</td>\n",
       "      <td>1</td>\n",
       "      <td>179</td>\n",
       "    </tr>\n",
       "    <tr>\n",
       "      <th>8</th>\n",
       "      <td>22362</td>\n",
       "      <td>*** Luxury in Chicago! 2BR/ 2Ba / Parking / BB...</td>\n",
       "      <td>85811</td>\n",
       "      <td>Craig</td>\n",
       "      <td>NaN</td>\n",
       "      <td>West Town</td>\n",
       "      <td>41.89617</td>\n",
       "      <td>-87.66041</td>\n",
       "      <td>Entire home/apt</td>\n",
       "      <td>99</td>\n",
       "      <td>91</td>\n",
       "      <td>9</td>\n",
       "      <td>2014-10-12</td>\n",
       "      <td>0.11</td>\n",
       "      <td>2</td>\n",
       "      <td>365</td>\n",
       "    </tr>\n",
       "    <tr>\n",
       "      <th>9</th>\n",
       "      <td>24833</td>\n",
       "      <td>Private Apt 1 Block to Fullerton L Red Line - ...</td>\n",
       "      <td>101521</td>\n",
       "      <td>Red</td>\n",
       "      <td>NaN</td>\n",
       "      <td>Lincoln Park</td>\n",
       "      <td>41.92679</td>\n",
       "      <td>-87.65521</td>\n",
       "      <td>Entire home/apt</td>\n",
       "      <td>112</td>\n",
       "      <td>32</td>\n",
       "      <td>37</td>\n",
       "      <td>2018-07-29</td>\n",
       "      <td>0.29</td>\n",
       "      <td>4</td>\n",
       "      <td>180</td>\n",
       "    </tr>\n",
       "    <tr>\n",
       "      <th>10</th>\n",
       "      <td>25879</td>\n",
       "      <td>Top 2/1  Block to Fullerton L Red Line Deck &amp; ...</td>\n",
       "      <td>101521</td>\n",
       "      <td>Red</td>\n",
       "      <td>NaN</td>\n",
       "      <td>Lincoln Park</td>\n",
       "      <td>41.92693</td>\n",
       "      <td>-87.65753</td>\n",
       "      <td>Entire home/apt</td>\n",
       "      <td>75</td>\n",
       "      <td>32</td>\n",
       "      <td>47</td>\n",
       "      <td>2020-05-11</td>\n",
       "      <td>0.38</td>\n",
       "      <td>4</td>\n",
       "      <td>62</td>\n",
       "    </tr>\n",
       "    <tr>\n",
       "      <th>11</th>\n",
       "      <td>28749</td>\n",
       "      <td>Sanitized, Huge, Quirky Bucktown Loft + Parking</td>\n",
       "      <td>27506</td>\n",
       "      <td>Laurie</td>\n",
       "      <td>NaN</td>\n",
       "      <td>Logan Square</td>\n",
       "      <td>41.92083</td>\n",
       "      <td>-87.68010</td>\n",
       "      <td>Entire home/apt</td>\n",
       "      <td>94</td>\n",
       "      <td>2</td>\n",
       "      <td>60</td>\n",
       "      <td>2020-09-07</td>\n",
       "      <td>0.50</td>\n",
       "      <td>1</td>\n",
       "      <td>332</td>\n",
       "    </tr>\n",
       "    <tr>\n",
       "      <th>12</th>\n",
       "      <td>37738</td>\n",
       "      <td>Andersonville - Perfect location!</td>\n",
       "      <td>162364</td>\n",
       "      <td>Mat And Randy</td>\n",
       "      <td>NaN</td>\n",
       "      <td>Uptown</td>\n",
       "      <td>41.97385</td>\n",
       "      <td>-87.66539</td>\n",
       "      <td>Private room</td>\n",
       "      <td>77</td>\n",
       "      <td>3</td>\n",
       "      <td>250</td>\n",
       "      <td>2020-03-15</td>\n",
       "      <td>2.02</td>\n",
       "      <td>2</td>\n",
       "      <td>223</td>\n",
       "    </tr>\n",
       "    <tr>\n",
       "      <th>13</th>\n",
       "      <td>39742</td>\n",
       "      <td>Central guestroom! Walk everywhere!</td>\n",
       "      <td>170758</td>\n",
       "      <td>Eric</td>\n",
       "      <td>NaN</td>\n",
       "      <td>Near North Side</td>\n",
       "      <td>41.89377</td>\n",
       "      <td>-87.63465</td>\n",
       "      <td>Private room</td>\n",
       "      <td>75</td>\n",
       "      <td>2</td>\n",
       "      <td>500</td>\n",
       "      <td>2019-09-30</td>\n",
       "      <td>4.13</td>\n",
       "      <td>1</td>\n",
       "      <td>0</td>\n",
       "    </tr>\n",
       "    <tr>\n",
       "      <th>14</th>\n",
       "      <td>44020</td>\n",
       "      <td>2 Bed MCM 1 Block to Fullerton Red line L &amp; Ga...</td>\n",
       "      <td>101521</td>\n",
       "      <td>Red</td>\n",
       "      <td>NaN</td>\n",
       "      <td>Lincoln Park</td>\n",
       "      <td>41.92673</td>\n",
       "      <td>-87.65731</td>\n",
       "      <td>Entire home/apt</td>\n",
       "      <td>95</td>\n",
       "      <td>32</td>\n",
       "      <td>52</td>\n",
       "      <td>2019-09-01</td>\n",
       "      <td>0.47</td>\n",
       "      <td>4</td>\n",
       "      <td>206</td>\n",
       "    </tr>\n",
       "    <tr>\n",
       "      <th>15</th>\n",
       "      <td>71930</td>\n",
       "      <td>Rest, Relax and Explore</td>\n",
       "      <td>334241</td>\n",
       "      <td>Michael And Veronica</td>\n",
       "      <td>NaN</td>\n",
       "      <td>West Town</td>\n",
       "      <td>41.89615</td>\n",
       "      <td>-87.67934</td>\n",
       "      <td>Private room</td>\n",
       "      <td>65</td>\n",
       "      <td>3</td>\n",
       "      <td>70</td>\n",
       "      <td>2020-07-09</td>\n",
       "      <td>0.62</td>\n",
       "      <td>2</td>\n",
       "      <td>178</td>\n",
       "    </tr>\n",
       "    <tr>\n",
       "      <th>16</th>\n",
       "      <td>79101</td>\n",
       "      <td>5★Cubs/Riviera/AragonTRAIN2Bdrms/Ba</td>\n",
       "      <td>272671</td>\n",
       "      <td>Two For The Road</td>\n",
       "      <td>NaN</td>\n",
       "      <td>Uptown</td>\n",
       "      <td>41.96792</td>\n",
       "      <td>-87.65757</td>\n",
       "      <td>Private room</td>\n",
       "      <td>157</td>\n",
       "      <td>2</td>\n",
       "      <td>151</td>\n",
       "      <td>2020-07-05</td>\n",
       "      <td>1.30</td>\n",
       "      <td>5</td>\n",
       "      <td>363</td>\n",
       "    </tr>\n",
       "    <tr>\n",
       "      <th>17</th>\n",
       "      <td>84042</td>\n",
       "      <td>The Explorer Room</td>\n",
       "      <td>334241</td>\n",
       "      <td>Michael And Veronica</td>\n",
       "      <td>NaN</td>\n",
       "      <td>West Town</td>\n",
       "      <td>41.89615</td>\n",
       "      <td>-87.67934</td>\n",
       "      <td>Private room</td>\n",
       "      <td>50</td>\n",
       "      <td>3</td>\n",
       "      <td>78</td>\n",
       "      <td>2020-08-20</td>\n",
       "      <td>0.68</td>\n",
       "      <td>2</td>\n",
       "      <td>314</td>\n",
       "    </tr>\n",
       "    <tr>\n",
       "      <th>18</th>\n",
       "      <td>110705</td>\n",
       "      <td>Fab Value!/ Spa /Deck/ARAGON/RIVIERA/TRAIN/CUBS/</td>\n",
       "      <td>272671</td>\n",
       "      <td>Two For The Road</td>\n",
       "      <td>NaN</td>\n",
       "      <td>Uptown</td>\n",
       "      <td>41.96930</td>\n",
       "      <td>-87.65621</td>\n",
       "      <td>Private room</td>\n",
       "      <td>99</td>\n",
       "      <td>2</td>\n",
       "      <td>149</td>\n",
       "      <td>2020-07-19</td>\n",
       "      <td>1.31</td>\n",
       "      <td>5</td>\n",
       "      <td>363</td>\n",
       "    </tr>\n",
       "    <tr>\n",
       "      <th>19</th>\n",
       "      <td>126280</td>\n",
       "      <td>Near Lake, Wrigley and Weiss Hospital</td>\n",
       "      <td>626517</td>\n",
       "      <td>Gail</td>\n",
       "      <td>NaN</td>\n",
       "      <td>Uptown</td>\n",
       "      <td>41.96852</td>\n",
       "      <td>-87.65225</td>\n",
       "      <td>Private room</td>\n",
       "      <td>35</td>\n",
       "      <td>3</td>\n",
       "      <td>162</td>\n",
       "      <td>2020-03-08</td>\n",
       "      <td>1.44</td>\n",
       "      <td>1</td>\n",
       "      <td>138</td>\n",
       "    </tr>\n",
       "  </tbody>\n",
       "</table>\n",
       "</div>"
      ],
      "text/plain": [
       "        id                                               name  host_id  \\\n",
       "0     2384  Hyde Park - Walk to UChicago, 10 min to McCormick     2613   \n",
       "1     4505  394 Great Reviews. 127 y/o House. 40 yds to tr...     5775   \n",
       "2     7126                Tiny Studio Apartment 94 Walk Score    17928   \n",
       "3     9811                      Barbara's Hideaway - Old Town    33004   \n",
       "4    10610                   3 Comforts of Cooperative Living     2140   \n",
       "5    10945                              The Biddle House (#1)    33004   \n",
       "6    12068                 Chicago GOLD COAST 1 Bedroom Condo    40731   \n",
       "7    12140                           Lincoln Park Guest House    46734   \n",
       "8    22362  *** Luxury in Chicago! 2BR/ 2Ba / Parking / BB...    85811   \n",
       "9    24833  Private Apt 1 Block to Fullerton L Red Line - ...   101521   \n",
       "10   25879  Top 2/1  Block to Fullerton L Red Line Deck & ...   101521   \n",
       "11   28749    Sanitized, Huge, Quirky Bucktown Loft + Parking    27506   \n",
       "12   37738                  Andersonville - Perfect location!   162364   \n",
       "13   39742                Central guestroom! Walk everywhere!   170758   \n",
       "14   44020  2 Bed MCM 1 Block to Fullerton Red line L & Ga...   101521   \n",
       "15   71930                            Rest, Relax and Explore   334241   \n",
       "16   79101                5★Cubs/Riviera/AragonTRAIN2Bdrms/Ba   272671   \n",
       "17   84042                                  The Explorer Room   334241   \n",
       "18  110705   Fab Value!/ Spa /Deck/ARAGON/RIVIERA/TRAIN/CUBS/   272671   \n",
       "19  126280              Near Lake, Wrigley and Weiss Hospital   626517   \n",
       "\n",
       "               host_name  neighbourhood_group    neighbourhood  latitude  \\\n",
       "0                Rebecca                  NaN        Hyde Park  41.78790   \n",
       "1       Craig & Kathleen                  NaN   South Lawndale  41.85495   \n",
       "2                  Sarah                  NaN        West Town  41.90289   \n",
       "3            At Home Inn                  NaN     Lincoln Park  41.91769   \n",
       "4                   Lois                  NaN        Hyde Park  41.79612   \n",
       "5            At Home Inn                  NaN     Lincoln Park  41.91183   \n",
       "6                Dominic                  NaN  Near North Side  41.90452   \n",
       "7      Sharon And Robert                  NaN     Lincoln Park  41.92335   \n",
       "8                  Craig                  NaN        West Town  41.89617   \n",
       "9                    Red                  NaN     Lincoln Park  41.92679   \n",
       "10                   Red                  NaN     Lincoln Park  41.92693   \n",
       "11                Laurie                  NaN     Logan Square  41.92083   \n",
       "12         Mat And Randy                  NaN           Uptown  41.97385   \n",
       "13                  Eric                  NaN  Near North Side  41.89377   \n",
       "14                   Red                  NaN     Lincoln Park  41.92673   \n",
       "15  Michael And Veronica                  NaN        West Town  41.89615   \n",
       "16      Two For The Road                  NaN           Uptown  41.96792   \n",
       "17  Michael And Veronica                  NaN        West Town  41.89615   \n",
       "18      Two For The Road                  NaN           Uptown  41.96930   \n",
       "19                  Gail                  NaN           Uptown  41.96852   \n",
       "\n",
       "    longitude        room_type  price  minimum_nights  number_of_reviews  \\\n",
       "0   -87.58780     Private room     60               2                178   \n",
       "1   -87.69696  Entire home/apt    105               2                395   \n",
       "2   -87.68182  Entire home/apt     60               2                384   \n",
       "3   -87.63788  Entire home/apt     65               4                 49   \n",
       "4   -87.59261     Private room     21               1                 44   \n",
       "5   -87.64000  Entire home/apt    115               4                 19   \n",
       "6   -87.63320  Entire home/apt     99               5                  9   \n",
       "7   -87.64951     Private room    289               2                  4   \n",
       "8   -87.66041  Entire home/apt     99              91                  9   \n",
       "9   -87.65521  Entire home/apt    112              32                 37   \n",
       "10  -87.65753  Entire home/apt     75              32                 47   \n",
       "11  -87.68010  Entire home/apt     94               2                 60   \n",
       "12  -87.66539     Private room     77               3                250   \n",
       "13  -87.63465     Private room     75               2                500   \n",
       "14  -87.65731  Entire home/apt     95              32                 52   \n",
       "15  -87.67934     Private room     65               3                 70   \n",
       "16  -87.65757     Private room    157               2                151   \n",
       "17  -87.67934     Private room     50               3                 78   \n",
       "18  -87.65621     Private room     99               2                149   \n",
       "19  -87.65225     Private room     35               3                162   \n",
       "\n",
       "   last_review  reviews_per_month  calculated_host_listings_count  \\\n",
       "0   2019-12-15               2.56                               1   \n",
       "1   2020-07-14               2.81                               1   \n",
       "2   2020-03-08               2.81                               1   \n",
       "3   2019-10-23               0.63                               9   \n",
       "4   2020-02-14               0.61                               5   \n",
       "5   2020-08-06               0.24                               9   \n",
       "6   2019-01-14               0.13                               1   \n",
       "7   2018-10-17               0.06                               1   \n",
       "8   2014-10-12               0.11                               2   \n",
       "9   2018-07-29               0.29                               4   \n",
       "10  2020-05-11               0.38                               4   \n",
       "11  2020-09-07               0.50                               1   \n",
       "12  2020-03-15               2.02                               2   \n",
       "13  2019-09-30               4.13                               1   \n",
       "14  2019-09-01               0.47                               4   \n",
       "15  2020-07-09               0.62                               2   \n",
       "16  2020-07-05               1.30                               5   \n",
       "17  2020-08-20               0.68                               2   \n",
       "18  2020-07-19               1.31                               5   \n",
       "19  2020-03-08               1.44                               1   \n",
       "\n",
       "    availability_365  \n",
       "0                353  \n",
       "1                155  \n",
       "2                321  \n",
       "3                300  \n",
       "4                168  \n",
       "5                325  \n",
       "6                316  \n",
       "7                179  \n",
       "8                365  \n",
       "9                180  \n",
       "10                62  \n",
       "11               332  \n",
       "12               223  \n",
       "13                 0  \n",
       "14               206  \n",
       "15               178  \n",
       "16               363  \n",
       "17               314  \n",
       "18               363  \n",
       "19               138  "
      ]
     },
     "execution_count": 79,
     "metadata": {},
     "output_type": "execute_result"
    }
   ],
   "source": [
    "df.head(20)"
   ]
  },
  {
   "cell_type": "markdown",
   "metadata": {},
   "source": [
    "I will drop columns that are not relevant to our prediction goal. These columns are: id, name, neighbourhood_group, last_review, host_name, host_id. I think that these columns do not provide any useful information for our prediction. "
   ]
  },
  {
   "cell_type": "code",
   "execution_count": 80,
   "metadata": {},
   "outputs": [],
   "source": [
    "df = df.drop(['id', 'name', 'neighbourhood_group','last_review','host_name','host_id'], axis=1)"
   ]
  },
  {
   "cell_type": "markdown",
   "metadata": {},
   "source": [
    "First, 'neighbour_group' column does not have any data and it does not provide any useful information for our prediction. I will drop this column. The 'id' column is used as a unique identifier for each listing and does not provide any useful information for our prediction. The 'name' column is the name of the airbnb listing. Name of any listing does not affect the price of the listing. So, I consider this column as a useless column. 'last_review' column is the column that shows the date of the last review. The time of the last review of the listing does not affect the price of the listing because good properties can have last review of several months or years ago if anyone hasn't reviewed the listing. So, I consider this column as a useless column. Another useless feature is 'host_name' and 'host_id'. These columns are the name and unique identifier of the host. Price of a listing should not be affected by the host's id or the name. So, I consider these columns a useless column as well."
   ]
  },
  {
   "cell_type": "markdown",
   "metadata": {},
   "source": [
    "Now, we have removed the columns that are not relevant to our prediction goal. Even though we have removed some columns, they still have some missing values. I will fill these missing values with the required procedure upon analyzing the data."
   ]
  },
  {
   "cell_type": "code",
   "execution_count": 81,
   "metadata": {},
   "outputs": [
    {
     "name": "stdout",
     "output_type": "stream",
     "text": [
      "<class 'pandas.core.frame.DataFrame'>\n",
      "RangeIndex: 6297 entries, 0 to 6296\n",
      "Data columns (total 10 columns):\n",
      " #   Column                          Non-Null Count  Dtype  \n",
      "---  ------                          --------------  -----  \n",
      " 0   neighbourhood                   6297 non-null   object \n",
      " 1   latitude                        6297 non-null   float64\n",
      " 2   longitude                       6297 non-null   float64\n",
      " 3   room_type                       6297 non-null   object \n",
      " 4   price                           6297 non-null   int64  \n",
      " 5   minimum_nights                  6297 non-null   int64  \n",
      " 6   number_of_reviews               6297 non-null   int64  \n",
      " 7   reviews_per_month               5183 non-null   float64\n",
      " 8   calculated_host_listings_count  6297 non-null   int64  \n",
      " 9   availability_365                6297 non-null   int64  \n",
      "dtypes: float64(3), int64(5), object(2)\n",
      "memory usage: 492.1+ KB\n"
     ]
    }
   ],
   "source": [
    "df.info()"
   ]
  },
  {
   "cell_type": "markdown",
   "metadata": {},
   "source": [
    "The column with missing values is reviews_per_month. I will fill the missing values after analyzing this column. I know that this column is of float type."
   ]
  },
  {
   "cell_type": "code",
   "execution_count": 82,
   "metadata": {},
   "outputs": [
    {
     "data": {
      "text/plain": [
       "neighbourhood                        0\n",
       "latitude                             0\n",
       "longitude                            0\n",
       "room_type                            0\n",
       "price                                0\n",
       "minimum_nights                       0\n",
       "number_of_reviews                    0\n",
       "reviews_per_month                 1114\n",
       "calculated_host_listings_count       0\n",
       "availability_365                     0\n",
       "dtype: int64"
      ]
     },
     "execution_count": 82,
     "metadata": {},
     "output_type": "execute_result"
    }
   ],
   "source": [
    "df.isnull().sum()"
   ]
  },
  {
   "cell_type": "markdown",
   "metadata": {},
   "source": [
    "There are 1114 missing values in reviews_per_month. I will fill these missing values after analyzing this column. "
   ]
  },
  {
   "cell_type": "code",
   "execution_count": 83,
   "metadata": {},
   "outputs": [],
   "source": [
    "import matplotlib.pyplot as plt"
   ]
  },
  {
   "cell_type": "markdown",
   "metadata": {},
   "source": [
    "I will plot a histogram to see the distribution of reviews_per_month. It will help us understand the spread of this feature."
   ]
  },
  {
   "cell_type": "code",
   "execution_count": 84,
   "metadata": {},
   "outputs": [
    {
     "data": {
      "image/png": "[encoded data removed]",
      "text/plain": [
       "<Figure size 640x480 with 1 Axes>"
      ]
     },
     "metadata": {},
     "output_type": "display_data"
    }
   ],
   "source": [
    "df['reviews_per_month'].plot(kind='hist', bins=1000, title='Histogram')\n",
    "plt.xlabel('Value')\n",
    "plt.ylabel('Frequency')\n",
    "plt.show()"
   ]
  },
  {
   "cell_type": "markdown",
   "metadata": {},
   "source": [
    "Upon analyzing the histogram, we can see that the distribution of reviews_per_month is right-skewed. This means that the majority of the data is concentrated on the left side. To handle this, I will use the median to fill the missing values."
   ]
  },
  {
   "cell_type": "code",
   "execution_count": 85,
   "metadata": {},
   "outputs": [
    {
     "name": "stdout",
     "output_type": "stream",
     "text": [
      "1.23\n"
     ]
    }
   ],
   "source": [
    "median_reviews_per_month = df['reviews_per_month'].median()\n",
    "print(median_reviews_per_month)"
   ]
  },
  {
   "cell_type": "code",
   "execution_count": 86,
   "metadata": {},
   "outputs": [],
   "source": [
    "df['reviews_per_month'] = df['reviews_per_month'].fillna(median_reviews_per_month)"
   ]
  },
  {
   "cell_type": "markdown",
   "metadata": {},
   "source": [
    "I filled the missing values in reviews_per_month with the median value. Now, let's check the missing values again."
   ]
  },
  {
   "cell_type": "code",
   "execution_count": 87,
   "metadata": {},
   "outputs": [
    {
     "data": {
      "text/plain": [
       "neighbourhood                     0\n",
       "latitude                          0\n",
       "longitude                         0\n",
       "room_type                         0\n",
       "price                             0\n",
       "minimum_nights                    0\n",
       "number_of_reviews                 0\n",
       "reviews_per_month                 0\n",
       "calculated_host_listings_count    0\n",
       "availability_365                  0\n",
       "dtype: int64"
      ]
     },
     "execution_count": 87,
     "metadata": {},
     "output_type": "execute_result"
    }
   ],
   "source": [
    "df.isnull().sum()"
   ]
  },
  {
   "cell_type": "markdown",
   "metadata": {},
   "source": [
    "Now, there are no missing values in the dataset now."
   ]
  },
  {
   "cell_type": "markdown",
   "metadata": {},
   "source": [
    "Its time to check for outliers in the dataset. Outliers can significantly impact the performance of our model. I will use the Z-score method to detect and remove outliers. We will visualize the boxplots to visualize the outliers."
   ]
  },
  {
   "cell_type": "code",
   "execution_count": 88,
   "metadata": {},
   "outputs": [],
   "source": [
    "import seaborn as sns"
   ]
  },
  {
   "cell_type": "code",
   "execution_count": 89,
   "metadata": {},
   "outputs": [
    {
     "data": {
      "image/png": "[encoded data removed]",
      "text/plain": [
       "<Figure size 1200x600 with 1 Axes>"
      ]
     },
     "metadata": {},
     "output_type": "display_data"
    }
   ],
   "source": [
    "num_cols = df.select_dtypes(include=['number']).columns\n",
    "\n",
    "\n",
    "# Setting figure size\n",
    "plt.figure(figsize=(12, 6))\n",
    "\n",
    "# Creating boxplots for all numerical columns in a single frame\n",
    "sns.boxplot(data=df[num_cols])\n",
    "\n",
    "\n",
    "plt.title(\"Boxplot for Outlier Detection\", fontsize=14)\n",
    "plt.xticks(rotation=30)\n",
    "plt.xlabel(\"Numerical Columns\")\n",
    "plt.ylabel(\"Values\")\n",
    "\n",
    "\n",
    "plt.show()"
   ]
  },
  {
   "cell_type": "markdown",
   "metadata": {},
   "source": [
    "There are outliers in the dataset. I will remove these outliers using the Z-score method. Z-score is a way to standardize a dataset where the distribution shape might differ from a normal distribution. It calculates the number of standard deviations a data point is from the mean. With this method, we identify outliers that are more than 3 standard deviations away from the mean."
   ]
  },
  {
   "cell_type": "code",
   "execution_count": 90,
   "metadata": {},
   "outputs": [
    {
     "name": "stdout",
     "output_type": "stream",
     "text": [
      "Number of rows with outliers: 564\n"
     ]
    }
   ],
   "source": [
    "from scipy import stats\n",
    "\n",
    "# Calculate Z-scores for numeric columns\n",
    "z_scores = stats.zscore(df.select_dtypes(include=['float64', 'int64']))\n",
    "\n",
    "# Find outliers where Z-score is above 3 or below -3\n",
    "outliers_z = (z_scores > 3) | (z_scores < -3)\n",
    "\n",
    "# Display rows where outliers are detected\n",
    "outlier_rows_z = df[(outliers_z).any(axis=1)]\n",
    "outlier_count = outlier_rows_z.shape[0]\n",
    "print(f\"Number of rows with outliers: {outlier_count}\")"
   ]
  },
  {
   "cell_type": "markdown",
   "metadata": {},
   "source": [
    "We have detected 564 outliers in the dataset. I will remove these outliers."
   ]
  },
  {
   "cell_type": "code",
   "execution_count": 91,
   "metadata": {},
   "outputs": [],
   "source": [
    "df.drop(outlier_rows_z.index, inplace=True)\n"
   ]
  },
  {
   "cell_type": "code",
   "execution_count": 92,
   "metadata": {},
   "outputs": [
    {
     "name": "stdout",
     "output_type": "stream",
     "text": [
      "<class 'pandas.core.frame.DataFrame'>\n",
      "Index: 5733 entries, 0 to 6296\n",
      "Data columns (total 10 columns):\n",
      " #   Column                          Non-Null Count  Dtype  \n",
      "---  ------                          --------------  -----  \n",
      " 0   neighbourhood                   5733 non-null   object \n",
      " 1   latitude                        5733 non-null   float64\n",
      " 2   longitude                       5733 non-null   float64\n",
      " 3   room_type                       5733 non-null   object \n",
      " 4   price                           5733 non-null   int64  \n",
      " 5   minimum_nights                  5733 non-null   int64  \n",
      " 6   number_of_reviews               5733 non-null   int64  \n",
      " 7   reviews_per_month               5733 non-null   float64\n",
      " 8   calculated_host_listings_count  5733 non-null   int64  \n",
      " 9   availability_365                5733 non-null   int64  \n",
      "dtypes: float64(3), int64(5), object(2)\n",
      "memory usage: 492.7+ KB\n"
     ]
    }
   ],
   "source": [
    "df.info()"
   ]
  },
  {
   "cell_type": "markdown",
   "metadata": {},
   "source": [
    "Now, we have cleaned the dataset and removed outliers. The cleaned dataset has 5733 rows and 10 columns. There are two columns with object data type: neighbourhood and room_type. I will encode these columns so, that these columns are converted to numerical data type. This will help us model the data effectively. And will be really helpful to train our model."
   ]
  },
  {
   "cell_type": "code",
   "execution_count": 93,
   "metadata": {},
   "outputs": [
    {
     "data": {
      "text/plain": [
       "array(['Hyde Park', 'Lincoln Park', 'Near North Side', 'Logan Square',\n",
       "       'West Town', 'Uptown', 'North Center', 'Lake View', 'Irving Park',\n",
       "       'Portage Park', 'West Ridge', 'Near West Side', 'Edgewater',\n",
       "       'Bridgeport', 'Woodlawn', 'Albany Park', 'Kenwood',\n",
       "       'Near South Side', 'Avondale', 'Rogers Park', 'Grand Boulevard',\n",
       "       'Forest Glen', 'Lincoln Square', 'Loop', 'East Garfield Park',\n",
       "       'North Lawndale', 'Oakland', 'Lower West Side', 'Chatham',\n",
       "       'Norwood Park', 'Washington Park', 'South Shore', 'Armour Square',\n",
       "       'South Lawndale', 'Hermosa', 'Mckinley Park', 'Humboldt Park',\n",
       "       'Douglas', 'North Park', 'Jefferson Park', 'Dunning',\n",
       "       'West Elsdon', 'Austin', 'Ashburn', 'Belmont Cragin',\n",
       "       'Greater Grand Crossing', 'Garfield Ridge', 'Brighton Park',\n",
       "       'Englewood', 'Archer Heights', 'South Chicago', 'Avalon Park',\n",
       "       'Chicago Lawn', 'Gage Park', 'West Lawn', 'Montclare',\n",
       "       'West Garfield Park', 'Clearing', 'Roseland', 'Calumet Heights',\n",
       "       'New City', 'Fuller Park', 'Auburn Gresham', 'West Englewood',\n",
       "       'Washington Heights', 'Burnside'], dtype=object)"
      ]
     },
     "execution_count": 93,
     "metadata": {},
     "output_type": "execute_result"
    }
   ],
   "source": [
    "df['neighbourhood'].unique()"
   ]
  },
  {
   "cell_type": "markdown",
   "metadata": {},
   "source": [
    "First I will be labeling the 'neighbourhood' column. I will analyze the 'neighbouhood' column."
   ]
  },
  {
   "cell_type": "code",
   "execution_count": 94,
   "metadata": {},
   "outputs": [
    {
     "data": {
      "text/plain": [
       "neighbourhood\n",
       "West Town          676\n",
       "Near North Side    565\n",
       "Lake View          487\n",
       "Logan Square       366\n",
       "Lincoln Park       296\n",
       "                  ... \n",
       "West Elsdon          2\n",
       "West Englewood       2\n",
       "Burnside             2\n",
       "Roseland             1\n",
       "Montclare            1\n",
       "Name: count, Length: 66, dtype: int64"
      ]
     },
     "execution_count": 94,
     "metadata": {},
     "output_type": "execute_result"
    }
   ],
   "source": [
    "df['neighbourhood'].value_counts()"
   ]
  },
  {
   "cell_type": "markdown",
   "metadata": {},
   "source": [
    "I have detected that there are multiple neighbourhoods with the same name. It will be better if I find the mean price for each neighbourhood and replace the neighbourhood names with their mean prices. This is known as mean encoding."
   ]
  },
  {
   "cell_type": "code",
   "execution_count": 95,
   "metadata": {},
   "outputs": [
    {
     "data": {
      "text/plain": [
       "{'Albany Park': 87.9375,\n",
       " 'Archer Heights': 92.2,\n",
       " 'Armour Square': 130.765625,\n",
       " 'Ashburn': 71.3076923076923,\n",
       " 'Auburn Gresham': 125.16666666666667,\n",
       " 'Austin': 100.26086956521739,\n",
       " 'Avalon Park': 102.25,\n",
       " 'Avondale': 115.79136690647482,\n",
       " 'Belmont Cragin': 87.0,\n",
       " 'Bridgeport': 114.3644859813084,\n",
       " 'Brighton Park': 98.52,\n",
       " 'Burnside': 132.5,\n",
       " 'Calumet Heights': 52.85,\n",
       " 'Chatham': 72.64285714285714,\n",
       " 'Chicago Lawn': 51.25,\n",
       " 'Clearing': 71.66666666666667,\n",
       " 'Douglas': 140.4561403508772,\n",
       " 'Dunning': 51.625,\n",
       " 'East Garfield Park': 80.73493975903614,\n",
       " 'Edgewater': 111.26993865030674,\n",
       " 'Englewood': 90.26666666666667,\n",
       " 'Forest Glen': 78.83333333333333,\n",
       " 'Fuller Park': 87.33333333333333,\n",
       " 'Gage Park': 64.8,\n",
       " 'Garfield Ridge': 102.2,\n",
       " 'Grand Boulevard': 117.0673076923077,\n",
       " 'Greater Grand Crossing': 85.82142857142857,\n",
       " 'Hermosa': 69.55555555555556,\n",
       " 'Humboldt Park': 84.26229508196721,\n",
       " 'Hyde Park': 90.25842696629213,\n",
       " 'Irving Park': 95.12080536912751,\n",
       " 'Jefferson Park': 99.72093023255815,\n",
       " 'Kenwood': 142.71428571428572,\n",
       " 'Lake View': 163.5482546201232,\n",
       " 'Lincoln Park': 177.44594594594594,\n",
       " 'Lincoln Square': 113.2235294117647,\n",
       " 'Logan Square': 138.11475409836066,\n",
       " 'Loop': 187.52189781021897,\n",
       " 'Lower West Side': 92.35754189944134,\n",
       " 'Mckinley Park': 65.75,\n",
       " 'Montclare': 89.0,\n",
       " 'Near North Side': 197.07787610619468,\n",
       " 'Near South Side': 157.5187969924812,\n",
       " 'Near West Side': 142.9659090909091,\n",
       " 'New City': 67.45,\n",
       " 'North Center': 166.94615384615383,\n",
       " 'North Lawndale': 50.6551724137931,\n",
       " 'North Park': 106.55555555555556,\n",
       " 'Norwood Park': 67.28571428571429,\n",
       " 'Oakland': 214.07692307692307,\n",
       " 'Portage Park': 110.32098765432099,\n",
       " 'Rogers Park': 114.61157024793388,\n",
       " 'Roseland': 105.0,\n",
       " 'South Chicago': 106.35,\n",
       " 'South Lawndale': 68.15,\n",
       " 'South Shore': 78.75,\n",
       " 'Uptown': 153.55414012738854,\n",
       " 'Washington Heights': 37.333333333333336,\n",
       " 'Washington Park': 101.78787878787878,\n",
       " 'West Elsdon': 85.5,\n",
       " 'West Englewood': 56.5,\n",
       " 'West Garfield Park': 82.0,\n",
       " 'West Lawn': 39.0,\n",
       " 'West Ridge': 86.56923076923077,\n",
       " 'West Town': 149.2559171597633,\n",
       " 'Woodlawn': 70.17721518987342}"
      ]
     },
     "execution_count": 95,
     "metadata": {},
     "output_type": "execute_result"
    }
   ],
   "source": [
    "# Computing mean encoding for the 'neighbourhood' column based on 'price'\n",
    "neighbourhood_mapping = df.groupby('neighbourhood')['price'].mean().to_dict()\n",
    "neighbourhood_mapping"
   ]
  },
  {
   "cell_type": "code",
   "execution_count": 96,
   "metadata": {},
   "outputs": [],
   "source": [
    "# Mapping the mean values to the 'neighbourhood' column\n",
    "df['neighbourhood'] = df['neighbourhood'].map(neighbourhood_mapping)"
   ]
  },
  {
   "cell_type": "markdown",
   "metadata": {},
   "source": [
    "I have replaced the neighbourhood names with their mean prices. And the column data type of 'neighbourhood' column is now numerical."
   ]
  },
  {
   "cell_type": "code",
   "execution_count": 97,
   "metadata": {},
   "outputs": [
    {
     "name": "stdout",
     "output_type": "stream",
     "text": [
      "<class 'pandas.core.frame.DataFrame'>\n",
      "Index: 5733 entries, 0 to 6296\n",
      "Data columns (total 10 columns):\n",
      " #   Column                          Non-Null Count  Dtype  \n",
      "---  ------                          --------------  -----  \n",
      " 0   neighbourhood                   5733 non-null   float64\n",
      " 1   latitude                        5733 non-null   float64\n",
      " 2   longitude                       5733 non-null   float64\n",
      " 3   room_type                       5733 non-null   object \n",
      " 4   price                           5733 non-null   int64  \n",
      " 5   minimum_nights                  5733 non-null   int64  \n",
      " 6   number_of_reviews               5733 non-null   int64  \n",
      " 7   reviews_per_month               5733 non-null   float64\n",
      " 8   calculated_host_listings_count  5733 non-null   int64  \n",
      " 9   availability_365                5733 non-null   int64  \n",
      "dtypes: float64(4), int64(5), object(1)\n",
      "memory usage: 492.7+ KB\n"
     ]
    }
   ],
   "source": [
    "df.info()"
   ]
  },
  {
   "cell_type": "code",
   "execution_count": 98,
   "metadata": {},
   "outputs": [
    {
     "data": {
      "text/html": [
       "<div>\n",
       "<style scoped>\n",
       "    .dataframe tbody tr th:only-of-type {\n",
       "        vertical-align: middle;\n",
       "    }\n",
       "\n",
       "    .dataframe tbody tr th {\n",
       "        vertical-align: top;\n",
       "    }\n",
       "\n",
       "    .dataframe thead th {\n",
       "        text-align: right;\n",
       "    }\n",
       "</style>\n",
       "<table border=\"1\" class=\"dataframe\">\n",
       "  <thead>\n",
       "    <tr style=\"text-align: right;\">\n",
       "      <th></th>\n",
       "      <th>neighbourhood</th>\n",
       "      <th>latitude</th>\n",
       "      <th>longitude</th>\n",
       "      <th>room_type</th>\n",
       "      <th>price</th>\n",
       "      <th>minimum_nights</th>\n",
       "      <th>number_of_reviews</th>\n",
       "      <th>reviews_per_month</th>\n",
       "      <th>calculated_host_listings_count</th>\n",
       "      <th>availability_365</th>\n",
       "    </tr>\n",
       "  </thead>\n",
       "  <tbody>\n",
       "    <tr>\n",
       "      <th>0</th>\n",
       "      <td>90.258427</td>\n",
       "      <td>41.78790</td>\n",
       "      <td>-87.58780</td>\n",
       "      <td>Private room</td>\n",
       "      <td>60</td>\n",
       "      <td>2</td>\n",
       "      <td>178</td>\n",
       "      <td>2.56</td>\n",
       "      <td>1</td>\n",
       "      <td>353</td>\n",
       "    </tr>\n",
       "    <tr>\n",
       "      <th>3</th>\n",
       "      <td>177.445946</td>\n",
       "      <td>41.91769</td>\n",
       "      <td>-87.63788</td>\n",
       "      <td>Entire home/apt</td>\n",
       "      <td>65</td>\n",
       "      <td>4</td>\n",
       "      <td>49</td>\n",
       "      <td>0.63</td>\n",
       "      <td>9</td>\n",
       "      <td>300</td>\n",
       "    </tr>\n",
       "    <tr>\n",
       "      <th>4</th>\n",
       "      <td>90.258427</td>\n",
       "      <td>41.79612</td>\n",
       "      <td>-87.59261</td>\n",
       "      <td>Private room</td>\n",
       "      <td>21</td>\n",
       "      <td>1</td>\n",
       "      <td>44</td>\n",
       "      <td>0.61</td>\n",
       "      <td>5</td>\n",
       "      <td>168</td>\n",
       "    </tr>\n",
       "    <tr>\n",
       "      <th>5</th>\n",
       "      <td>177.445946</td>\n",
       "      <td>41.91183</td>\n",
       "      <td>-87.64000</td>\n",
       "      <td>Entire home/apt</td>\n",
       "      <td>115</td>\n",
       "      <td>4</td>\n",
       "      <td>19</td>\n",
       "      <td>0.24</td>\n",
       "      <td>9</td>\n",
       "      <td>325</td>\n",
       "    </tr>\n",
       "    <tr>\n",
       "      <th>6</th>\n",
       "      <td>197.077876</td>\n",
       "      <td>41.90452</td>\n",
       "      <td>-87.63320</td>\n",
       "      <td>Entire home/apt</td>\n",
       "      <td>99</td>\n",
       "      <td>5</td>\n",
       "      <td>9</td>\n",
       "      <td>0.13</td>\n",
       "      <td>1</td>\n",
       "      <td>316</td>\n",
       "    </tr>\n",
       "    <tr>\n",
       "      <th>7</th>\n",
       "      <td>177.445946</td>\n",
       "      <td>41.92335</td>\n",
       "      <td>-87.64951</td>\n",
       "      <td>Private room</td>\n",
       "      <td>289</td>\n",
       "      <td>2</td>\n",
       "      <td>4</td>\n",
       "      <td>0.06</td>\n",
       "      <td>1</td>\n",
       "      <td>179</td>\n",
       "    </tr>\n",
       "    <tr>\n",
       "      <th>9</th>\n",
       "      <td>177.445946</td>\n",
       "      <td>41.92679</td>\n",
       "      <td>-87.65521</td>\n",
       "      <td>Entire home/apt</td>\n",
       "      <td>112</td>\n",
       "      <td>32</td>\n",
       "      <td>37</td>\n",
       "      <td>0.29</td>\n",
       "      <td>4</td>\n",
       "      <td>180</td>\n",
       "    </tr>\n",
       "    <tr>\n",
       "      <th>10</th>\n",
       "      <td>177.445946</td>\n",
       "      <td>41.92693</td>\n",
       "      <td>-87.65753</td>\n",
       "      <td>Entire home/apt</td>\n",
       "      <td>75</td>\n",
       "      <td>32</td>\n",
       "      <td>47</td>\n",
       "      <td>0.38</td>\n",
       "      <td>4</td>\n",
       "      <td>62</td>\n",
       "    </tr>\n",
       "    <tr>\n",
       "      <th>11</th>\n",
       "      <td>138.114754</td>\n",
       "      <td>41.92083</td>\n",
       "      <td>-87.68010</td>\n",
       "      <td>Entire home/apt</td>\n",
       "      <td>94</td>\n",
       "      <td>2</td>\n",
       "      <td>60</td>\n",
       "      <td>0.50</td>\n",
       "      <td>1</td>\n",
       "      <td>332</td>\n",
       "    </tr>\n",
       "    <tr>\n",
       "      <th>14</th>\n",
       "      <td>177.445946</td>\n",
       "      <td>41.92673</td>\n",
       "      <td>-87.65731</td>\n",
       "      <td>Entire home/apt</td>\n",
       "      <td>95</td>\n",
       "      <td>32</td>\n",
       "      <td>52</td>\n",
       "      <td>0.47</td>\n",
       "      <td>4</td>\n",
       "      <td>206</td>\n",
       "    </tr>\n",
       "    <tr>\n",
       "      <th>15</th>\n",
       "      <td>149.255917</td>\n",
       "      <td>41.89615</td>\n",
       "      <td>-87.67934</td>\n",
       "      <td>Private room</td>\n",
       "      <td>65</td>\n",
       "      <td>3</td>\n",
       "      <td>70</td>\n",
       "      <td>0.62</td>\n",
       "      <td>2</td>\n",
       "      <td>178</td>\n",
       "    </tr>\n",
       "    <tr>\n",
       "      <th>16</th>\n",
       "      <td>153.554140</td>\n",
       "      <td>41.96792</td>\n",
       "      <td>-87.65757</td>\n",
       "      <td>Private room</td>\n",
       "      <td>157</td>\n",
       "      <td>2</td>\n",
       "      <td>151</td>\n",
       "      <td>1.30</td>\n",
       "      <td>5</td>\n",
       "      <td>363</td>\n",
       "    </tr>\n",
       "    <tr>\n",
       "      <th>17</th>\n",
       "      <td>149.255917</td>\n",
       "      <td>41.89615</td>\n",
       "      <td>-87.67934</td>\n",
       "      <td>Private room</td>\n",
       "      <td>50</td>\n",
       "      <td>3</td>\n",
       "      <td>78</td>\n",
       "      <td>0.68</td>\n",
       "      <td>2</td>\n",
       "      <td>314</td>\n",
       "    </tr>\n",
       "    <tr>\n",
       "      <th>18</th>\n",
       "      <td>153.554140</td>\n",
       "      <td>41.96930</td>\n",
       "      <td>-87.65621</td>\n",
       "      <td>Private room</td>\n",
       "      <td>99</td>\n",
       "      <td>2</td>\n",
       "      <td>149</td>\n",
       "      <td>1.31</td>\n",
       "      <td>5</td>\n",
       "      <td>363</td>\n",
       "    </tr>\n",
       "    <tr>\n",
       "      <th>19</th>\n",
       "      <td>153.554140</td>\n",
       "      <td>41.96852</td>\n",
       "      <td>-87.65225</td>\n",
       "      <td>Private room</td>\n",
       "      <td>35</td>\n",
       "      <td>3</td>\n",
       "      <td>162</td>\n",
       "      <td>1.44</td>\n",
       "      <td>1</td>\n",
       "      <td>138</td>\n",
       "    </tr>\n",
       "    <tr>\n",
       "      <th>20</th>\n",
       "      <td>166.946154</td>\n",
       "      <td>41.94342</td>\n",
       "      <td>-87.68121</td>\n",
       "      <td>Entire home/apt</td>\n",
       "      <td>197</td>\n",
       "      <td>2</td>\n",
       "      <td>31</td>\n",
       "      <td>0.52</td>\n",
       "      <td>20</td>\n",
       "      <td>361</td>\n",
       "    </tr>\n",
       "    <tr>\n",
       "      <th>21</th>\n",
       "      <td>177.445946</td>\n",
       "      <td>41.91289</td>\n",
       "      <td>-87.63864</td>\n",
       "      <td>Entire home/apt</td>\n",
       "      <td>279</td>\n",
       "      <td>2</td>\n",
       "      <td>52</td>\n",
       "      <td>0.81</td>\n",
       "      <td>20</td>\n",
       "      <td>355</td>\n",
       "    </tr>\n",
       "    <tr>\n",
       "      <th>22</th>\n",
       "      <td>163.548255</td>\n",
       "      <td>41.94274</td>\n",
       "      <td>-87.67321</td>\n",
       "      <td>Entire home/apt</td>\n",
       "      <td>198</td>\n",
       "      <td>3</td>\n",
       "      <td>60</td>\n",
       "      <td>0.54</td>\n",
       "      <td>4</td>\n",
       "      <td>364</td>\n",
       "    </tr>\n",
       "    <tr>\n",
       "      <th>23</th>\n",
       "      <td>163.548255</td>\n",
       "      <td>41.94221</td>\n",
       "      <td>-87.67327</td>\n",
       "      <td>Entire home/apt</td>\n",
       "      <td>280</td>\n",
       "      <td>3</td>\n",
       "      <td>22</td>\n",
       "      <td>0.20</td>\n",
       "      <td>4</td>\n",
       "      <td>365</td>\n",
       "    </tr>\n",
       "    <tr>\n",
       "      <th>24</th>\n",
       "      <td>95.120805</td>\n",
       "      <td>41.96012</td>\n",
       "      <td>-87.72158</td>\n",
       "      <td>Entire home/apt</td>\n",
       "      <td>79</td>\n",
       "      <td>28</td>\n",
       "      <td>33</td>\n",
       "      <td>0.30</td>\n",
       "      <td>2</td>\n",
       "      <td>346</td>\n",
       "    </tr>\n",
       "  </tbody>\n",
       "</table>\n",
       "</div>"
      ],
      "text/plain": [
       "    neighbourhood  latitude  longitude        room_type  price  \\\n",
       "0       90.258427  41.78790  -87.58780     Private room     60   \n",
       "3      177.445946  41.91769  -87.63788  Entire home/apt     65   \n",
       "4       90.258427  41.79612  -87.59261     Private room     21   \n",
       "5      177.445946  41.91183  -87.64000  Entire home/apt    115   \n",
       "6      197.077876  41.90452  -87.63320  Entire home/apt     99   \n",
       "7      177.445946  41.92335  -87.64951     Private room    289   \n",
       "9      177.445946  41.92679  -87.65521  Entire home/apt    112   \n",
       "10     177.445946  41.92693  -87.65753  Entire home/apt     75   \n",
       "11     138.114754  41.92083  -87.68010  Entire home/apt     94   \n",
       "14     177.445946  41.92673  -87.65731  Entire home/apt     95   \n",
       "15     149.255917  41.89615  -87.67934     Private room     65   \n",
       "16     153.554140  41.96792  -87.65757     Private room    157   \n",
       "17     149.255917  41.89615  -87.67934     Private room     50   \n",
       "18     153.554140  41.96930  -87.65621     Private room     99   \n",
       "19     153.554140  41.96852  -87.65225     Private room     35   \n",
       "20     166.946154  41.94342  -87.68121  Entire home/apt    197   \n",
       "21     177.445946  41.91289  -87.63864  Entire home/apt    279   \n",
       "22     163.548255  41.94274  -87.67321  Entire home/apt    198   \n",
       "23     163.548255  41.94221  -87.67327  Entire home/apt    280   \n",
       "24      95.120805  41.96012  -87.72158  Entire home/apt     79   \n",
       "\n",
       "    minimum_nights  number_of_reviews  reviews_per_month  \\\n",
       "0                2                178               2.56   \n",
       "3                4                 49               0.63   \n",
       "4                1                 44               0.61   \n",
       "5                4                 19               0.24   \n",
       "6                5                  9               0.13   \n",
       "7                2                  4               0.06   \n",
       "9               32                 37               0.29   \n",
       "10              32                 47               0.38   \n",
       "11               2                 60               0.50   \n",
       "14              32                 52               0.47   \n",
       "15               3                 70               0.62   \n",
       "16               2                151               1.30   \n",
       "17               3                 78               0.68   \n",
       "18               2                149               1.31   \n",
       "19               3                162               1.44   \n",
       "20               2                 31               0.52   \n",
       "21               2                 52               0.81   \n",
       "22               3                 60               0.54   \n",
       "23               3                 22               0.20   \n",
       "24              28                 33               0.30   \n",
       "\n",
       "    calculated_host_listings_count  availability_365  \n",
       "0                                1               353  \n",
       "3                                9               300  \n",
       "4                                5               168  \n",
       "5                                9               325  \n",
       "6                                1               316  \n",
       "7                                1               179  \n",
       "9                                4               180  \n",
       "10                               4                62  \n",
       "11                               1               332  \n",
       "14                               4               206  \n",
       "15                               2               178  \n",
       "16                               5               363  \n",
       "17                               2               314  \n",
       "18                               5               363  \n",
       "19                               1               138  \n",
       "20                              20               361  \n",
       "21                              20               355  \n",
       "22                               4               364  \n",
       "23                               4               365  \n",
       "24                               2               346  "
      ]
     },
     "execution_count": 98,
     "metadata": {},
     "output_type": "execute_result"
    }
   ],
   "source": [
    "df.head(20)"
   ]
  },
  {
   "cell_type": "code",
   "execution_count": 99,
   "metadata": {},
   "outputs": [
    {
     "data": {
      "text/plain": [
       "137.28048142333856"
      ]
     },
     "execution_count": 99,
     "metadata": {},
     "output_type": "execute_result"
    }
   ],
   "source": [
    "neighbourhood_mean = df['neighbourhood'].mean()\n",
    "neighbourhood_mean"
   ]
  },
  {
   "cell_type": "markdown",
   "metadata": {},
   "source": [
    "Now, Its time to encode the 'room_type' column. I will analyze the 'room_type' column."
   ]
  },
  {
   "cell_type": "code",
   "execution_count": 100,
   "metadata": {},
   "outputs": [
    {
     "data": {
      "text/plain": [
       "array(['Private room', 'Entire home/apt', 'Shared room', 'Hotel room'],\n",
       "      dtype=object)"
      ]
     },
     "execution_count": 100,
     "metadata": {},
     "output_type": "execute_result"
    }
   ],
   "source": [
    "df['room_type'].unique()"
   ]
  },
  {
   "cell_type": "markdown",
   "metadata": {},
   "source": [
    "There are 4 unique room types: Shared room, Private room, Hotel room, and Entire home/apt. I will label encode these room types. It will be easier for me and is effective as well for our model."
   ]
  },
  {
   "cell_type": "code",
   "execution_count": 101,
   "metadata": {},
   "outputs": [
    {
     "data": {
      "text/plain": [
       "array([1, 3, 0, 2], dtype=int64)"
      ]
     },
     "execution_count": 101,
     "metadata": {},
     "output_type": "execute_result"
    }
   ],
   "source": [
    "room_type_mapping = {\n",
    "    'Shared room': 0,\n",
    "    'Private room': 1,\n",
    "    'Hotel room': 2,\n",
    "    'Entire home/apt': 3\n",
    "}\n",
    "df['room_type'] = df['room_type'].map(room_type_mapping)\n",
    "df['room_type'].unique()"
   ]
  },
  {
   "cell_type": "markdown",
   "metadata": {},
   "source": [
    "Now, the 'room_type' column is encoded. Our dataset contains no object data type now."
   ]
  },
  {
   "cell_type": "code",
   "execution_count": 102,
   "metadata": {},
   "outputs": [
    {
     "name": "stdout",
     "output_type": "stream",
     "text": [
      "<class 'pandas.core.frame.DataFrame'>\n",
      "Index: 5733 entries, 0 to 6296\n",
      "Data columns (total 10 columns):\n",
      " #   Column                          Non-Null Count  Dtype  \n",
      "---  ------                          --------------  -----  \n",
      " 0   neighbourhood                   5733 non-null   float64\n",
      " 1   latitude                        5733 non-null   float64\n",
      " 2   longitude                       5733 non-null   float64\n",
      " 3   room_type                       5733 non-null   int64  \n",
      " 4   price                           5733 non-null   int64  \n",
      " 5   minimum_nights                  5733 non-null   int64  \n",
      " 6   number_of_reviews               5733 non-null   int64  \n",
      " 7   reviews_per_month               5733 non-null   float64\n",
      " 8   calculated_host_listings_count  5733 non-null   int64  \n",
      " 9   availability_365                5733 non-null   int64  \n",
      "dtypes: float64(4), int64(6)\n",
      "memory usage: 492.7 KB\n"
     ]
    }
   ],
   "source": [
    "df.info()"
   ]
  },
  {
   "cell_type": "markdown",
   "metadata": {},
   "source": [
    "It will be really helpful later while executing the live data in preprocessing step if we create a reference table to keep track of the transformations done. So, I will create a reference table to keep track of the transformations done. For the column 'id', 'name', 'neighbourhood_group', 'last_review', 'host_name', 'host_id' I will use the 'drop' action. For the column 'neighbourhood' I will use the'median_replace' action. For the column 'room_type' I will use the 'label_encoding' action. For mean_encoding action I will save the value of the neighbourhood_mapping and for label_encoding action I will save the value of the room_type_mapping."
   ]
  },
  {
   "cell_type": "code",
   "execution_count": 103,
   "metadata": {},
   "outputs": [],
   "source": [
    "ref_table = {\n",
    "    'field' : ['id', 'name', 'neighbourhood_group','last_review','host_name','host_id','reviews_per_month','neighbourhood','room_type'],\n",
    "    'action' :['drop','drop','drop','drop','drop','drop','median_replace','mean_encoding','label_encoding'],\n",
    "    'values' :[np.nan,np.nan,np.nan,np.nan,np.nan,np.nan,1.23,str(neighbourhood_mapping),str(room_type_mapping)]\n",
    "}"
   ]
  },
  {
   "cell_type": "code",
   "execution_count": 104,
   "metadata": {},
   "outputs": [],
   "source": [
    "ref_df = pd.DataFrame(ref_table)"
   ]
  },
  {
   "cell_type": "markdown",
   "metadata": {},
   "source": [
    "I have created a reference table to keep track of the transformations done. And also, conerted into dataframe for better readability and will be used for storing the transformations in a database."
   ]
  },
  {
   "cell_type": "code",
   "execution_count": 105,
   "metadata": {},
   "outputs": [
    {
     "data": {
      "text/html": [
       "<div>\n",
       "<style scoped>\n",
       "    .dataframe tbody tr th:only-of-type {\n",
       "        vertical-align: middle;\n",
       "    }\n",
       "\n",
       "    .dataframe tbody tr th {\n",
       "        vertical-align: top;\n",
       "    }\n",
       "\n",
       "    .dataframe thead th {\n",
       "        text-align: right;\n",
       "    }\n",
       "</style>\n",
       "<table border=\"1\" class=\"dataframe\">\n",
       "  <thead>\n",
       "    <tr style=\"text-align: right;\">\n",
       "      <th></th>\n",
       "      <th>field</th>\n",
       "      <th>action</th>\n",
       "      <th>values</th>\n",
       "    </tr>\n",
       "  </thead>\n",
       "  <tbody>\n",
       "    <tr>\n",
       "      <th>0</th>\n",
       "      <td>id</td>\n",
       "      <td>drop</td>\n",
       "      <td>NaN</td>\n",
       "    </tr>\n",
       "    <tr>\n",
       "      <th>1</th>\n",
       "      <td>name</td>\n",
       "      <td>drop</td>\n",
       "      <td>NaN</td>\n",
       "    </tr>\n",
       "    <tr>\n",
       "      <th>2</th>\n",
       "      <td>neighbourhood_group</td>\n",
       "      <td>drop</td>\n",
       "      <td>NaN</td>\n",
       "    </tr>\n",
       "    <tr>\n",
       "      <th>3</th>\n",
       "      <td>last_review</td>\n",
       "      <td>drop</td>\n",
       "      <td>NaN</td>\n",
       "    </tr>\n",
       "    <tr>\n",
       "      <th>4</th>\n",
       "      <td>host_name</td>\n",
       "      <td>drop</td>\n",
       "      <td>NaN</td>\n",
       "    </tr>\n",
       "    <tr>\n",
       "      <th>5</th>\n",
       "      <td>host_id</td>\n",
       "      <td>drop</td>\n",
       "      <td>NaN</td>\n",
       "    </tr>\n",
       "    <tr>\n",
       "      <th>6</th>\n",
       "      <td>reviews_per_month</td>\n",
       "      <td>median_replace</td>\n",
       "      <td>1.23</td>\n",
       "    </tr>\n",
       "    <tr>\n",
       "      <th>7</th>\n",
       "      <td>neighbourhood</td>\n",
       "      <td>mean_encoding</td>\n",
       "      <td>{'Albany Park': 87.9375, 'Archer Heights': 92....</td>\n",
       "    </tr>\n",
       "    <tr>\n",
       "      <th>8</th>\n",
       "      <td>room_type</td>\n",
       "      <td>label_encoding</td>\n",
       "      <td>{'Shared room': 0, 'Private room': 1, 'Hotel r...</td>\n",
       "    </tr>\n",
       "  </tbody>\n",
       "</table>\n",
       "</div>"
      ],
      "text/plain": [
       "                 field          action  \\\n",
       "0                   id            drop   \n",
       "1                 name            drop   \n",
       "2  neighbourhood_group            drop   \n",
       "3          last_review            drop   \n",
       "4            host_name            drop   \n",
       "5              host_id            drop   \n",
       "6    reviews_per_month  median_replace   \n",
       "7        neighbourhood   mean_encoding   \n",
       "8            room_type  label_encoding   \n",
       "\n",
       "                                              values  \n",
       "0                                                NaN  \n",
       "1                                                NaN  \n",
       "2                                                NaN  \n",
       "3                                                NaN  \n",
       "4                                                NaN  \n",
       "5                                                NaN  \n",
       "6                                               1.23  \n",
       "7  {'Albany Park': 87.9375, 'Archer Heights': 92....  \n",
       "8  {'Shared room': 0, 'Private room': 1, 'Hotel r...  "
      ]
     },
     "execution_count": 105,
     "metadata": {},
     "output_type": "execute_result"
    }
   ],
   "source": [
    "ref_df"
   ]
  },
  {
   "cell_type": "code",
   "execution_count": 106,
   "metadata": {},
   "outputs": [],
   "source": [
    "schema = r'cleaned'\n",
    "table = r'ref_table'"
   ]
  },
  {
   "cell_type": "markdown",
   "metadata": {},
   "source": [
    "I have created a SQL table named'ref_table' in the 'cleaned' schema. The table contains the fields, actions, and values used for the transformations."
   ]
  },
  {
   "cell_type": "code",
   "execution_count": 107,
   "metadata": {},
   "outputs": [
    {
     "data": {
      "text/plain": [
       "9"
      ]
     },
     "execution_count": 107,
     "metadata": {},
     "output_type": "execute_result"
    }
   ],
   "source": [
    "ref_df.to_sql(table, con=engine, if_exists='replace', index=False, schema=schema, chunksize=1000, method='multi')"
   ]
  },
  {
   "cell_type": "markdown",
   "metadata": {},
   "source": [
    "![ref_table.png](ref_table.png)"
   ]
  },
  {
   "cell_type": "markdown",
   "metadata": {},
   "source": [
    "# Part 5 –Feature Engineering and Final Prep"
   ]
  },
  {
   "cell_type": "markdown",
   "metadata": {},
   "source": [
    "In this part, I will generate new features and adjust existing ones to better capture the underlying patterns in the data. I will prepare my final data for the training of the machine learning model."
   ]
  },
  {
   "cell_type": "code",
   "execution_count": 108,
   "metadata": {},
   "outputs": [
    {
     "name": "stdout",
     "output_type": "stream",
     "text": [
      "<class 'pandas.core.frame.DataFrame'>\n",
      "Index: 5733 entries, 0 to 6296\n",
      "Data columns (total 10 columns):\n",
      " #   Column                          Non-Null Count  Dtype  \n",
      "---  ------                          --------------  -----  \n",
      " 0   neighbourhood                   5733 non-null   float64\n",
      " 1   latitude                        5733 non-null   float64\n",
      " 2   longitude                       5733 non-null   float64\n",
      " 3   room_type                       5733 non-null   int64  \n",
      " 4   price                           5733 non-null   int64  \n",
      " 5   minimum_nights                  5733 non-null   int64  \n",
      " 6   number_of_reviews               5733 non-null   int64  \n",
      " 7   reviews_per_month               5733 non-null   float64\n",
      " 8   calculated_host_listings_count  5733 non-null   int64  \n",
      " 9   availability_365                5733 non-null   int64  \n",
      "dtypes: float64(4), int64(6)\n",
      "memory usage: 492.7 KB\n"
     ]
    }
   ],
   "source": [
    "df.info()"
   ]
  },
  {
   "cell_type": "markdown",
   "metadata": {},
   "source": [
    "After analyzing the data, I have identified the following new features: \"adjusted_price_per_night\", \"annual_revenue_estimate\" and \"occupancy_rate\"."
   ]
  },
  {
   "cell_type": "markdown",
   "metadata": {},
   "source": [
    "More reviews often indicate higher demand, but extremely high review counts may signal lower pricing strategies. Adjusting for reviews can better reflect the true market price.\n",
    "For the \"adjusted_price_per_night\" feature, I have adjusted the price by dividing it by the natural logarithm of the number of reviews plus 1. This feature captures the impact of reviews on price, while also accounting for the logarithmic nature of review counts."
   ]
  },
  {
   "cell_type": "code",
   "execution_count": 109,
   "metadata": {},
   "outputs": [],
   "source": [
    "df[\"adjusted_price_per_night\"] = df[\"price\"] / (1 + np.log1p(df[\"number_of_reviews\"]))\n"
   ]
  },
  {
   "cell_type": "markdown",
   "metadata": {},
   "source": [
    "For the \"annual_revenue_estimate\" feature, I have calculated the annual revenue estimate by multiplying the price by the minimum number of available days, which is 365. This estimates the maximum possible revenue assuming full occupancy for available days."
   ]
  },
  {
   "cell_type": "code",
   "execution_count": 110,
   "metadata": {},
   "outputs": [],
   "source": [
    "df[\"annual_revenue_estimate\"] = df[\"price\"] * np.minimum(df[\"availability_365\"], 365)\n"
   ]
  },
  {
   "cell_type": "markdown",
   "metadata": {},
   "source": [
    "For the \"occupancy_rate\" feature, I have calculated the occupancy rate by multiplying the number of reviews per month by 12 and dividing it by the minimum number of nights. This helps estimate the likelihood of occupancy based on reviews.Higher reviews per month generally indicate a higher booking rate, and this helps estimate occupancy levels for better pricing strategies."
   ]
  },
  {
   "cell_type": "code",
   "execution_count": 111,
   "metadata": {},
   "outputs": [],
   "source": [
    "df[\"occupancy_rate\"] = (df[\"reviews_per_month\"] * 12) / df[\"minimum_nights\"]\n",
    "df[\"occupancy_rate\"] = df[\"occupancy_rate\"].clip(upper=1)  # Ensuring it doesn't exceed 100%"
   ]
  },
  {
   "cell_type": "code",
   "execution_count": 112,
   "metadata": {},
   "outputs": [
    {
     "name": "stdout",
     "output_type": "stream",
     "text": [
      "<class 'pandas.core.frame.DataFrame'>\n",
      "Index: 5733 entries, 0 to 6296\n",
      "Data columns (total 13 columns):\n",
      " #   Column                          Non-Null Count  Dtype  \n",
      "---  ------                          --------------  -----  \n",
      " 0   neighbourhood                   5733 non-null   float64\n",
      " 1   latitude                        5733 non-null   float64\n",
      " 2   longitude                       5733 non-null   float64\n",
      " 3   room_type                       5733 non-null   int64  \n",
      " 4   price                           5733 non-null   int64  \n",
      " 5   minimum_nights                  5733 non-null   int64  \n",
      " 6   number_of_reviews               5733 non-null   int64  \n",
      " 7   reviews_per_month               5733 non-null   float64\n",
      " 8   calculated_host_listings_count  5733 non-null   int64  \n",
      " 9   availability_365                5733 non-null   int64  \n",
      " 10  adjusted_price_per_night        5733 non-null   float64\n",
      " 11  annual_revenue_estimate         5733 non-null   int64  \n",
      " 12  occupancy_rate                  5733 non-null   float64\n",
      "dtypes: float64(6), int64(7)\n",
      "memory usage: 627.0 KB\n"
     ]
    }
   ],
   "source": [
    "df.info()"
   ]
  },
  {
   "cell_type": "markdown",
   "metadata": {},
   "source": [
    "Now there are 13 columns in the cleaned dataset. This dataset now only contains numeric data types."
   ]
  },
  {
   "cell_type": "code",
   "execution_count": 113,
   "metadata": {},
   "outputs": [
    {
     "data": {
      "text/html": [
       "<div>\n",
       "<style scoped>\n",
       "    .dataframe tbody tr th:only-of-type {\n",
       "        vertical-align: middle;\n",
       "    }\n",
       "\n",
       "    .dataframe tbody tr th {\n",
       "        vertical-align: top;\n",
       "    }\n",
       "\n",
       "    .dataframe thead th {\n",
       "        text-align: right;\n",
       "    }\n",
       "</style>\n",
       "<table border=\"1\" class=\"dataframe\">\n",
       "  <thead>\n",
       "    <tr style=\"text-align: right;\">\n",
       "      <th></th>\n",
       "      <th>neighbourhood</th>\n",
       "      <th>latitude</th>\n",
       "      <th>longitude</th>\n",
       "      <th>room_type</th>\n",
       "      <th>price</th>\n",
       "      <th>minimum_nights</th>\n",
       "      <th>number_of_reviews</th>\n",
       "      <th>reviews_per_month</th>\n",
       "      <th>calculated_host_listings_count</th>\n",
       "      <th>availability_365</th>\n",
       "      <th>adjusted_price_per_night</th>\n",
       "      <th>annual_revenue_estimate</th>\n",
       "      <th>occupancy_rate</th>\n",
       "    </tr>\n",
       "  </thead>\n",
       "  <tbody>\n",
       "    <tr>\n",
       "      <th>0</th>\n",
       "      <td>90.258427</td>\n",
       "      <td>41.78790</td>\n",
       "      <td>-87.58780</td>\n",
       "      <td>1</td>\n",
       "      <td>60</td>\n",
       "      <td>2</td>\n",
       "      <td>178</td>\n",
       "      <td>2.56</td>\n",
       "      <td>1</td>\n",
       "      <td>353</td>\n",
       "      <td>9.697149</td>\n",
       "      <td>21180</td>\n",
       "      <td>1.00000</td>\n",
       "    </tr>\n",
       "    <tr>\n",
       "      <th>3</th>\n",
       "      <td>177.445946</td>\n",
       "      <td>41.91769</td>\n",
       "      <td>-87.63788</td>\n",
       "      <td>3</td>\n",
       "      <td>65</td>\n",
       "      <td>4</td>\n",
       "      <td>49</td>\n",
       "      <td>0.63</td>\n",
       "      <td>9</td>\n",
       "      <td>300</td>\n",
       "      <td>13.232837</td>\n",
       "      <td>19500</td>\n",
       "      <td>1.00000</td>\n",
       "    </tr>\n",
       "    <tr>\n",
       "      <th>4</th>\n",
       "      <td>90.258427</td>\n",
       "      <td>41.79612</td>\n",
       "      <td>-87.59261</td>\n",
       "      <td>1</td>\n",
       "      <td>21</td>\n",
       "      <td>1</td>\n",
       "      <td>44</td>\n",
       "      <td>0.61</td>\n",
       "      <td>5</td>\n",
       "      <td>168</td>\n",
       "      <td>4.368936</td>\n",
       "      <td>3528</td>\n",
       "      <td>1.00000</td>\n",
       "    </tr>\n",
       "    <tr>\n",
       "      <th>5</th>\n",
       "      <td>177.445946</td>\n",
       "      <td>41.91183</td>\n",
       "      <td>-87.64000</td>\n",
       "      <td>3</td>\n",
       "      <td>115</td>\n",
       "      <td>4</td>\n",
       "      <td>19</td>\n",
       "      <td>0.24</td>\n",
       "      <td>9</td>\n",
       "      <td>325</td>\n",
       "      <td>28.780707</td>\n",
       "      <td>37375</td>\n",
       "      <td>0.72000</td>\n",
       "    </tr>\n",
       "    <tr>\n",
       "      <th>6</th>\n",
       "      <td>197.077876</td>\n",
       "      <td>41.90452</td>\n",
       "      <td>-87.63320</td>\n",
       "      <td>3</td>\n",
       "      <td>99</td>\n",
       "      <td>5</td>\n",
       "      <td>9</td>\n",
       "      <td>0.13</td>\n",
       "      <td>1</td>\n",
       "      <td>316</td>\n",
       "      <td>29.976518</td>\n",
       "      <td>31284</td>\n",
       "      <td>0.31200</td>\n",
       "    </tr>\n",
       "    <tr>\n",
       "      <th>7</th>\n",
       "      <td>177.445946</td>\n",
       "      <td>41.92335</td>\n",
       "      <td>-87.64951</td>\n",
       "      <td>1</td>\n",
       "      <td>289</td>\n",
       "      <td>2</td>\n",
       "      <td>4</td>\n",
       "      <td>0.06</td>\n",
       "      <td>1</td>\n",
       "      <td>179</td>\n",
       "      <td>110.751821</td>\n",
       "      <td>51731</td>\n",
       "      <td>0.36000</td>\n",
       "    </tr>\n",
       "    <tr>\n",
       "      <th>9</th>\n",
       "      <td>177.445946</td>\n",
       "      <td>41.92679</td>\n",
       "      <td>-87.65521</td>\n",
       "      <td>3</td>\n",
       "      <td>112</td>\n",
       "      <td>32</td>\n",
       "      <td>37</td>\n",
       "      <td>0.29</td>\n",
       "      <td>4</td>\n",
       "      <td>180</td>\n",
       "      <td>24.150495</td>\n",
       "      <td>20160</td>\n",
       "      <td>0.10875</td>\n",
       "    </tr>\n",
       "    <tr>\n",
       "      <th>10</th>\n",
       "      <td>177.445946</td>\n",
       "      <td>41.92693</td>\n",
       "      <td>-87.65753</td>\n",
       "      <td>3</td>\n",
       "      <td>75</td>\n",
       "      <td>32</td>\n",
       "      <td>47</td>\n",
       "      <td>0.38</td>\n",
       "      <td>4</td>\n",
       "      <td>62</td>\n",
       "      <td>15.396614</td>\n",
       "      <td>4650</td>\n",
       "      <td>0.14250</td>\n",
       "    </tr>\n",
       "    <tr>\n",
       "      <th>11</th>\n",
       "      <td>138.114754</td>\n",
       "      <td>41.92083</td>\n",
       "      <td>-87.68010</td>\n",
       "      <td>3</td>\n",
       "      <td>94</td>\n",
       "      <td>2</td>\n",
       "      <td>60</td>\n",
       "      <td>0.50</td>\n",
       "      <td>1</td>\n",
       "      <td>332</td>\n",
       "      <td>18.392158</td>\n",
       "      <td>31208</td>\n",
       "      <td>1.00000</td>\n",
       "    </tr>\n",
       "    <tr>\n",
       "      <th>14</th>\n",
       "      <td>177.445946</td>\n",
       "      <td>41.92673</td>\n",
       "      <td>-87.65731</td>\n",
       "      <td>3</td>\n",
       "      <td>95</td>\n",
       "      <td>32</td>\n",
       "      <td>52</td>\n",
       "      <td>0.47</td>\n",
       "      <td>4</td>\n",
       "      <td>206</td>\n",
       "      <td>19.113565</td>\n",
       "      <td>19570</td>\n",
       "      <td>0.17625</td>\n",
       "    </tr>\n",
       "  </tbody>\n",
       "</table>\n",
       "</div>"
      ],
      "text/plain": [
       "    neighbourhood  latitude  longitude  room_type  price  minimum_nights  \\\n",
       "0       90.258427  41.78790  -87.58780          1     60               2   \n",
       "3      177.445946  41.91769  -87.63788          3     65               4   \n",
       "4       90.258427  41.79612  -87.59261          1     21               1   \n",
       "5      177.445946  41.91183  -87.64000          3    115               4   \n",
       "6      197.077876  41.90452  -87.63320          3     99               5   \n",
       "7      177.445946  41.92335  -87.64951          1    289               2   \n",
       "9      177.445946  41.92679  -87.65521          3    112              32   \n",
       "10     177.445946  41.92693  -87.65753          3     75              32   \n",
       "11     138.114754  41.92083  -87.68010          3     94               2   \n",
       "14     177.445946  41.92673  -87.65731          3     95              32   \n",
       "\n",
       "    number_of_reviews  reviews_per_month  calculated_host_listings_count  \\\n",
       "0                 178               2.56                               1   \n",
       "3                  49               0.63                               9   \n",
       "4                  44               0.61                               5   \n",
       "5                  19               0.24                               9   \n",
       "6                   9               0.13                               1   \n",
       "7                   4               0.06                               1   \n",
       "9                  37               0.29                               4   \n",
       "10                 47               0.38                               4   \n",
       "11                 60               0.50                               1   \n",
       "14                 52               0.47                               4   \n",
       "\n",
       "    availability_365  adjusted_price_per_night  annual_revenue_estimate  \\\n",
       "0                353                  9.697149                    21180   \n",
       "3                300                 13.232837                    19500   \n",
       "4                168                  4.368936                     3528   \n",
       "5                325                 28.780707                    37375   \n",
       "6                316                 29.976518                    31284   \n",
       "7                179                110.751821                    51731   \n",
       "9                180                 24.150495                    20160   \n",
       "10                62                 15.396614                     4650   \n",
       "11               332                 18.392158                    31208   \n",
       "14               206                 19.113565                    19570   \n",
       "\n",
       "    occupancy_rate  \n",
       "0          1.00000  \n",
       "3          1.00000  \n",
       "4          1.00000  \n",
       "5          0.72000  \n",
       "6          0.31200  \n",
       "7          0.36000  \n",
       "9          0.10875  \n",
       "10         0.14250  \n",
       "11         1.00000  \n",
       "14         0.17625  "
      ]
     },
     "execution_count": 113,
     "metadata": {},
     "output_type": "execute_result"
    }
   ],
   "source": [
    "df.head(10)"
   ]
  },
  {
   "cell_type": "code",
   "execution_count": 114,
   "metadata": {},
   "outputs": [],
   "source": [
    "schema = r'cleaned'\n",
    "table = r'chicago_airbnb_cleaned'"
   ]
  },
  {
   "cell_type": "markdown",
   "metadata": {},
   "source": [
    "I will create a SQL table named 'chicago_airbnb_cleaned' in the 'cleaned' schema. The table contains the cleaned and engineered data."
   ]
  },
  {
   "cell_type": "code",
   "execution_count": 115,
   "metadata": {},
   "outputs": [
    {
     "data": {
      "text/plain": [
       "5733"
      ]
     },
     "execution_count": 115,
     "metadata": {},
     "output_type": "execute_result"
    }
   ],
   "source": [
    "df.to_sql(table, con=engine, if_exists='replace', index=False, schema=schema, chunksize=1000, method='multi')"
   ]
  },
  {
   "cell_type": "markdown",
   "metadata": {},
   "source": [
    "Screenshot of cleaned data with new features generated with feature engineering"
   ]
  },
  {
   "cell_type": "markdown",
   "metadata": {},
   "source": [
    "![cleaned_data.png](cleaned_data.png)\n"
   ]
  },
  {
   "cell_type": "markdown",
   "metadata": {},
   "source": [
    "## Analyzing Feature Importance"
   ]
  },
  {
   "cell_type": "markdown",
   "metadata": {},
   "source": [
    "In this part, I will analyze the feature importance of the dataset to understand which features are most important in predicting the price of an Airbnb listing in Chicago. I will use permutation importance to measure the importance of each feature in predicting the price. I will use the Random Forest Regressor as an example model because this is the model I will use for my project goal."
   ]
  },
  {
   "cell_type": "code",
   "execution_count": 116,
   "metadata": {},
   "outputs": [],
   "source": [
    "X = df.drop(columns=['price'])\n",
    "y = df['price']\n",
    "X_train, X_test, y_train, y_test = train_test_split(X, y, test_size=0.2, random_state=42)"
   ]
  },
  {
   "cell_type": "code",
   "execution_count": 117,
   "metadata": {},
   "outputs": [
    {
     "data": {
      "text/html": [
       "<style>#sk-container-id-2 {\n",
       "  /* Definition of color scheme common for light and dark mode */\n",
       "  --sklearn-color-text: black;\n",
       "  --sklearn-color-line: gray;\n",
       "  /* Definition of color scheme for unfitted estimators */\n",
       "  --sklearn-color-unfitted-level-0: #fff5e6;\n",
       "  --sklearn-color-unfitted-level-1: #f6e4d2;\n",
       "  --sklearn-color-unfitted-level-2: #ffe0b3;\n",
       "  --sklearn-color-unfitted-level-3: chocolate;\n",
       "  /* Definition of color scheme for fitted estimators */\n",
       "  --sklearn-color-fitted-level-0: #f0f8ff;\n",
       "  --sklearn-color-fitted-level-1: #d4ebff;\n",
       "  --sklearn-color-fitted-level-2: #b3dbfd;\n",
       "  --sklearn-color-fitted-level-3: cornflowerblue;\n",
       "\n",
       "  /* Specific color for light theme */\n",
       "  --sklearn-color-text-on-default-background: var(--sg-text-color, var(--theme-code-foreground, var(--jp-content-font-color1, black)));\n",
       "  --sklearn-color-background: var(--sg-background-color, var(--theme-background, var(--jp-layout-color0, white)));\n",
       "  --sklearn-color-border-box: var(--sg-text-color, var(--theme-code-foreground, var(--jp-content-font-color1, black)));\n",
       "  --sklearn-color-icon: #696969;\n",
       "\n",
       "  @media (prefers-color-scheme: dark) {\n",
       "    /* Redefinition of color scheme for dark theme */\n",
       "    --sklearn-color-text-on-default-background: var(--sg-text-color, var(--theme-code-foreground, var(--jp-content-font-color1, white)));\n",
       "    --sklearn-color-background: var(--sg-background-color, var(--theme-background, var(--jp-layout-color0, #111)));\n",
       "    --sklearn-color-border-box: var(--sg-text-color, var(--theme-code-foreground, var(--jp-content-font-color1, white)));\n",
       "    --sklearn-color-icon: #878787;\n",
       "  }\n",
       "}\n",
       "\n",
       "#sk-container-id-2 {\n",
       "  color: var(--sklearn-color-text);\n",
       "}\n",
       "\n",
       "#sk-container-id-2 pre {\n",
       "  padding: 0;\n",
       "}\n",
       "\n",
       "#sk-container-id-2 input.sk-hidden--visually {\n",
       "  border: 0;\n",
       "  clip: rect(1px 1px 1px 1px);\n",
       "  clip: rect(1px, 1px, 1px, 1px);\n",
       "  height: 1px;\n",
       "  margin: -1px;\n",
       "  overflow: hidden;\n",
       "  padding: 0;\n",
       "  position: absolute;\n",
       "  width: 1px;\n",
       "}\n",
       "\n",
       "#sk-container-id-2 div.sk-dashed-wrapped {\n",
       "  border: 1px dashed var(--sklearn-color-line);\n",
       "  margin: 0 0.4em 0.5em 0.4em;\n",
       "  box-sizing: border-box;\n",
       "  padding-bottom: 0.4em;\n",
       "  background-color: var(--sklearn-color-background);\n",
       "}\n",
       "\n",
       "#sk-container-id-2 div.sk-container {\n",
       "  /* jupyter's `normalize.less` sets `[hidden] { display: none; }`\n",
       "     but bootstrap.min.css set `[hidden] { display: none !important; }`\n",
       "     so we also need the `!important` here to be able to override the\n",
       "     default hidden behavior on the sphinx rendered scikit-learn.org.\n",
       "     See: https://github.com/scikit-learn/scikit-learn/issues/21755 */\n",
       "  display: inline-block !important;\n",
       "  position: relative;\n",
       "}\n",
       "\n",
       "#sk-container-id-2 div.sk-text-repr-fallback {\n",
       "  display: none;\n",
       "}\n",
       "\n",
       "div.sk-parallel-item,\n",
       "div.sk-serial,\n",
       "div.sk-item {\n",
       "  /* draw centered vertical line to link estimators */\n",
       "  background-image: linear-gradient(var(--sklearn-color-text-on-default-background), var(--sklearn-color-text-on-default-background));\n",
       "  background-size: 2px 100%;\n",
       "  background-repeat: no-repeat;\n",
       "  background-position: center center;\n",
       "}\n",
       "\n",
       "/* Parallel-specific style estimator block */\n",
       "\n",
       "#sk-container-id-2 div.sk-parallel-item::after {\n",
       "  content: \"\";\n",
       "  width: 100%;\n",
       "  border-bottom: 2px solid var(--sklearn-color-text-on-default-background);\n",
       "  flex-grow: 1;\n",
       "}\n",
       "\n",
       "#sk-container-id-2 div.sk-parallel {\n",
       "  display: flex;\n",
       "  align-items: stretch;\n",
       "  justify-content: center;\n",
       "  background-color: var(--sklearn-color-background);\n",
       "  position: relative;\n",
       "}\n",
       "\n",
       "#sk-container-id-2 div.sk-parallel-item {\n",
       "  display: flex;\n",
       "  flex-direction: column;\n",
       "}\n",
       "\n",
       "#sk-container-id-2 div.sk-parallel-item:first-child::after {\n",
       "  align-self: flex-end;\n",
       "  width: 50%;\n",
       "}\n",
       "\n",
       "#sk-container-id-2 div.sk-parallel-item:last-child::after {\n",
       "  align-self: flex-start;\n",
       "  width: 50%;\n",
       "}\n",
       "\n",
       "#sk-container-id-2 div.sk-parallel-item:only-child::after {\n",
       "  width: 0;\n",
       "}\n",
       "\n",
       "/* Serial-specific style estimator block */\n",
       "\n",
       "#sk-container-id-2 div.sk-serial {\n",
       "  display: flex;\n",
       "  flex-direction: column;\n",
       "  align-items: center;\n",
       "  background-color: var(--sklearn-color-background);\n",
       "  padding-right: 1em;\n",
       "  padding-left: 1em;\n",
       "}\n",
       "\n",
       "\n",
       "/* Toggleable style: style used for estimator/Pipeline/ColumnTransformer box that is\n",
       "clickable and can be expanded/collapsed.\n",
       "- Pipeline and ColumnTransformer use this feature and define the default style\n",
       "- Estimators will overwrite some part of the style using the `sk-estimator` class\n",
       "*/\n",
       "\n",
       "/* Pipeline and ColumnTransformer style (default) */\n",
       "\n",
       "#sk-container-id-2 div.sk-toggleable {\n",
       "  /* Default theme specific background. It is overwritten whether we have a\n",
       "  specific estimator or a Pipeline/ColumnTransformer */\n",
       "  background-color: var(--sklearn-color-background);\n",
       "}\n",
       "\n",
       "/* Toggleable label */\n",
       "#sk-container-id-2 label.sk-toggleable__label {\n",
       "  cursor: pointer;\n",
       "  display: block;\n",
       "  width: 100%;\n",
       "  margin-bottom: 0;\n",
       "  padding: 0.5em;\n",
       "  box-sizing: border-box;\n",
       "  text-align: center;\n",
       "}\n",
       "\n",
       "#sk-container-id-2 label.sk-toggleable__label-arrow:before {\n",
       "  /* Arrow on the left of the label */\n",
       "  content: \"▸\";\n",
       "  float: left;\n",
       "  margin-right: 0.25em;\n",
       "  color: var(--sklearn-color-icon);\n",
       "}\n",
       "\n",
       "#sk-container-id-2 label.sk-toggleable__label-arrow:hover:before {\n",
       "  color: var(--sklearn-color-text);\n",
       "}\n",
       "\n",
       "/* Toggleable content - dropdown */\n",
       "\n",
       "#sk-container-id-2 div.sk-toggleable__content {\n",
       "  max-height: 0;\n",
       "  max-width: 0;\n",
       "  overflow: hidden;\n",
       "  text-align: left;\n",
       "  /* unfitted */\n",
       "  background-color: var(--sklearn-color-unfitted-level-0);\n",
       "}\n",
       "\n",
       "#sk-container-id-2 div.sk-toggleable__content.fitted {\n",
       "  /* fitted */\n",
       "  background-color: var(--sklearn-color-fitted-level-0);\n",
       "}\n",
       "\n",
       "#sk-container-id-2 div.sk-toggleable__content pre {\n",
       "  margin: 0.2em;\n",
       "  border-radius: 0.25em;\n",
       "  color: var(--sklearn-color-text);\n",
       "  /* unfitted */\n",
       "  background-color: var(--sklearn-color-unfitted-level-0);\n",
       "}\n",
       "\n",
       "#sk-container-id-2 div.sk-toggleable__content.fitted pre {\n",
       "  /* unfitted */\n",
       "  background-color: var(--sklearn-color-fitted-level-0);\n",
       "}\n",
       "\n",
       "#sk-container-id-2 input.sk-toggleable__control:checked~div.sk-toggleable__content {\n",
       "  /* Expand drop-down */\n",
       "  max-height: 200px;\n",
       "  max-width: 100%;\n",
       "  overflow: auto;\n",
       "}\n",
       "\n",
       "#sk-container-id-2 input.sk-toggleable__control:checked~label.sk-toggleable__label-arrow:before {\n",
       "  content: \"▾\";\n",
       "}\n",
       "\n",
       "/* Pipeline/ColumnTransformer-specific style */\n",
       "\n",
       "#sk-container-id-2 div.sk-label input.sk-toggleable__control:checked~label.sk-toggleable__label {\n",
       "  color: var(--sklearn-color-text);\n",
       "  background-color: var(--sklearn-color-unfitted-level-2);\n",
       "}\n",
       "\n",
       "#sk-container-id-2 div.sk-label.fitted input.sk-toggleable__control:checked~label.sk-toggleable__label {\n",
       "  background-color: var(--sklearn-color-fitted-level-2);\n",
       "}\n",
       "\n",
       "/* Estimator-specific style */\n",
       "\n",
       "/* Colorize estimator box */\n",
       "#sk-container-id-2 div.sk-estimator input.sk-toggleable__control:checked~label.sk-toggleable__label {\n",
       "  /* unfitted */\n",
       "  background-color: var(--sklearn-color-unfitted-level-2);\n",
       "}\n",
       "\n",
       "#sk-container-id-2 div.sk-estimator.fitted input.sk-toggleable__control:checked~label.sk-toggleable__label {\n",
       "  /* fitted */\n",
       "  background-color: var(--sklearn-color-fitted-level-2);\n",
       "}\n",
       "\n",
       "#sk-container-id-2 div.sk-label label.sk-toggleable__label,\n",
       "#sk-container-id-2 div.sk-label label {\n",
       "  /* The background is the default theme color */\n",
       "  color: var(--sklearn-color-text-on-default-background);\n",
       "}\n",
       "\n",
       "/* On hover, darken the color of the background */\n",
       "#sk-container-id-2 div.sk-label:hover label.sk-toggleable__label {\n",
       "  color: var(--sklearn-color-text);\n",
       "  background-color: var(--sklearn-color-unfitted-level-2);\n",
       "}\n",
       "\n",
       "/* Label box, darken color on hover, fitted */\n",
       "#sk-container-id-2 div.sk-label.fitted:hover label.sk-toggleable__label.fitted {\n",
       "  color: var(--sklearn-color-text);\n",
       "  background-color: var(--sklearn-color-fitted-level-2);\n",
       "}\n",
       "\n",
       "/* Estimator label */\n",
       "\n",
       "#sk-container-id-2 div.sk-label label {\n",
       "  font-family: monospace;\n",
       "  font-weight: bold;\n",
       "  display: inline-block;\n",
       "  line-height: 1.2em;\n",
       "}\n",
       "\n",
       "#sk-container-id-2 div.sk-label-container {\n",
       "  text-align: center;\n",
       "}\n",
       "\n",
       "/* Estimator-specific */\n",
       "#sk-container-id-2 div.sk-estimator {\n",
       "  font-family: monospace;\n",
       "  border: 1px dotted var(--sklearn-color-border-box);\n",
       "  border-radius: 0.25em;\n",
       "  box-sizing: border-box;\n",
       "  margin-bottom: 0.5em;\n",
       "  /* unfitted */\n",
       "  background-color: var(--sklearn-color-unfitted-level-0);\n",
       "}\n",
       "\n",
       "#sk-container-id-2 div.sk-estimator.fitted {\n",
       "  /* fitted */\n",
       "  background-color: var(--sklearn-color-fitted-level-0);\n",
       "}\n",
       "\n",
       "/* on hover */\n",
       "#sk-container-id-2 div.sk-estimator:hover {\n",
       "  /* unfitted */\n",
       "  background-color: var(--sklearn-color-unfitted-level-2);\n",
       "}\n",
       "\n",
       "#sk-container-id-2 div.sk-estimator.fitted:hover {\n",
       "  /* fitted */\n",
       "  background-color: var(--sklearn-color-fitted-level-2);\n",
       "}\n",
       "\n",
       "/* Specification for estimator info (e.g. \"i\" and \"?\") */\n",
       "\n",
       "/* Common style for \"i\" and \"?\" */\n",
       "\n",
       ".sk-estimator-doc-link,\n",
       "a:link.sk-estimator-doc-link,\n",
       "a:visited.sk-estimator-doc-link {\n",
       "  float: right;\n",
       "  font-size: smaller;\n",
       "  line-height: 1em;\n",
       "  font-family: monospace;\n",
       "  background-color: var(--sklearn-color-background);\n",
       "  border-radius: 1em;\n",
       "  height: 1em;\n",
       "  width: 1em;\n",
       "  text-decoration: none !important;\n",
       "  margin-left: 1ex;\n",
       "  /* unfitted */\n",
       "  border: var(--sklearn-color-unfitted-level-1) 1pt solid;\n",
       "  color: var(--sklearn-color-unfitted-level-1);\n",
       "}\n",
       "\n",
       ".sk-estimator-doc-link.fitted,\n",
       "a:link.sk-estimator-doc-link.fitted,\n",
       "a:visited.sk-estimator-doc-link.fitted {\n",
       "  /* fitted */\n",
       "  border: var(--sklearn-color-fitted-level-1) 1pt solid;\n",
       "  color: var(--sklearn-color-fitted-level-1);\n",
       "}\n",
       "\n",
       "/* On hover */\n",
       "div.sk-estimator:hover .sk-estimator-doc-link:hover,\n",
       ".sk-estimator-doc-link:hover,\n",
       "div.sk-label-container:hover .sk-estimator-doc-link:hover,\n",
       ".sk-estimator-doc-link:hover {\n",
       "  /* unfitted */\n",
       "  background-color: var(--sklearn-color-unfitted-level-3);\n",
       "  color: var(--sklearn-color-background);\n",
       "  text-decoration: none;\n",
       "}\n",
       "\n",
       "div.sk-estimator.fitted:hover .sk-estimator-doc-link.fitted:hover,\n",
       ".sk-estimator-doc-link.fitted:hover,\n",
       "div.sk-label-container:hover .sk-estimator-doc-link.fitted:hover,\n",
       ".sk-estimator-doc-link.fitted:hover {\n",
       "  /* fitted */\n",
       "  background-color: var(--sklearn-color-fitted-level-3);\n",
       "  color: var(--sklearn-color-background);\n",
       "  text-decoration: none;\n",
       "}\n",
       "\n",
       "/* Span, style for the box shown on hovering the info icon */\n",
       ".sk-estimator-doc-link span {\n",
       "  display: none;\n",
       "  z-index: 9999;\n",
       "  position: relative;\n",
       "  font-weight: normal;\n",
       "  right: .2ex;\n",
       "  padding: .5ex;\n",
       "  margin: .5ex;\n",
       "  width: min-content;\n",
       "  min-width: 20ex;\n",
       "  max-width: 50ex;\n",
       "  color: var(--sklearn-color-text);\n",
       "  box-shadow: 2pt 2pt 4pt #999;\n",
       "  /* unfitted */\n",
       "  background: var(--sklearn-color-unfitted-level-0);\n",
       "  border: .5pt solid var(--sklearn-color-unfitted-level-3);\n",
       "}\n",
       "\n",
       ".sk-estimator-doc-link.fitted span {\n",
       "  /* fitted */\n",
       "  background: var(--sklearn-color-fitted-level-0);\n",
       "  border: var(--sklearn-color-fitted-level-3);\n",
       "}\n",
       "\n",
       ".sk-estimator-doc-link:hover span {\n",
       "  display: block;\n",
       "}\n",
       "\n",
       "/* \"?\"-specific style due to the `<a>` HTML tag */\n",
       "\n",
       "#sk-container-id-2 a.estimator_doc_link {\n",
       "  float: right;\n",
       "  font-size: 1rem;\n",
       "  line-height: 1em;\n",
       "  font-family: monospace;\n",
       "  background-color: var(--sklearn-color-background);\n",
       "  border-radius: 1rem;\n",
       "  height: 1rem;\n",
       "  width: 1rem;\n",
       "  text-decoration: none;\n",
       "  /* unfitted */\n",
       "  color: var(--sklearn-color-unfitted-level-1);\n",
       "  border: var(--sklearn-color-unfitted-level-1) 1pt solid;\n",
       "}\n",
       "\n",
       "#sk-container-id-2 a.estimator_doc_link.fitted {\n",
       "  /* fitted */\n",
       "  border: var(--sklearn-color-fitted-level-1) 1pt solid;\n",
       "  color: var(--sklearn-color-fitted-level-1);\n",
       "}\n",
       "\n",
       "/* On hover */\n",
       "#sk-container-id-2 a.estimator_doc_link:hover {\n",
       "  /* unfitted */\n",
       "  background-color: var(--sklearn-color-unfitted-level-3);\n",
       "  color: var(--sklearn-color-background);\n",
       "  text-decoration: none;\n",
       "}\n",
       "\n",
       "#sk-container-id-2 a.estimator_doc_link.fitted:hover {\n",
       "  /* fitted */\n",
       "  background-color: var(--sklearn-color-fitted-level-3);\n",
       "}\n",
       "</style><div id=\"sk-container-id-2\" class=\"sk-top-container\"><div class=\"sk-text-repr-fallback\"><pre>RandomForestRegressor(random_state=42)</pre><b>In a Jupyter environment, please rerun this cell to show the HTML representation or trust the notebook. <br />On GitHub, the HTML representation is unable to render, please try loading this page with nbviewer.org.</b></div><div class=\"sk-container\" hidden><div class=\"sk-item\"><div class=\"sk-estimator fitted sk-toggleable\"><input class=\"sk-toggleable__control sk-hidden--visually\" id=\"sk-estimator-id-2\" type=\"checkbox\" checked><label for=\"sk-estimator-id-2\" class=\"sk-toggleable__label fitted sk-toggleable__label-arrow fitted\">&nbsp;&nbsp;RandomForestRegressor<a class=\"sk-estimator-doc-link fitted\" rel=\"noreferrer\" target=\"_blank\" href=\"https://scikit-learn.org/1.4/modules/generated/sklearn.ensemble.RandomForestRegressor.html\">?<span>Documentation for RandomForestRegressor</span></a><span class=\"sk-estimator-doc-link fitted\">i<span>Fitted</span></span></label><div class=\"sk-toggleable__content fitted\"><pre>RandomForestRegressor(random_state=42)</pre></div> </div></div></div></div>"
      ],
      "text/plain": [
       "RandomForestRegressor(random_state=42)"
      ]
     },
     "execution_count": 117,
     "metadata": {},
     "output_type": "execute_result"
    }
   ],
   "source": [
    "rf = RandomForestRegressor(n_estimators=100, random_state=42)\n",
    "rf.fit(X_train, y_train)"
   ]
  },
  {
   "cell_type": "code",
   "execution_count": 118,
   "metadata": {},
   "outputs": [
    {
     "name": "stdout",
     "output_type": "stream",
     "text": [
      "                           Feature    Importance\n",
      "9         adjusted_price_per_night  44017.587572\n",
      "5                number_of_reviews  16978.610269\n",
      "10         annual_revenue_estimate  11325.411066\n",
      "8                 availability_365   3069.956778\n",
      "6                reviews_per_month     51.558683\n",
      "7   calculated_host_listings_count      2.313990\n",
      "3                        room_type      0.976771\n",
      "2                        longitude      0.489476\n",
      "0                    neighbourhood     -0.412978\n",
      "1                         latitude     -0.926037\n",
      "11                  occupancy_rate     -1.200049\n",
      "4                   minimum_nights     -2.663213\n"
     ]
    }
   ],
   "source": [
    "perm_importance = permutation_importance(rf, X_test, y_test, n_repeats=10, random_state=42, scoring='neg_mean_squared_error')\n",
    "\n",
    "\n",
    "feature_importance_df = pd.DataFrame({\n",
    "    'Feature': X.columns,\n",
    "    'Importance': perm_importance.importances_mean\n",
    "}).sort_values(by='Importance', ascending=False)\n",
    "\n",
    "\n",
    "print(feature_importance_df)\n",
    "\n",
    "\n",
    "\n"
   ]
  },
  {
   "cell_type": "markdown",
   "metadata": {},
   "source": [
    "The engineered features like \"adjusted_price_per_night\", \"annual_revenue_estimate\" have quite high importance in predicting the price of an Airbnb listing in Chicago. These features can be used as predictors in future pricing strategies. Occupancy_rate has a relatively low importance, indicating that it may not be a strong predictor of price."
   ]
  },
  {
   "cell_type": "code",
   "execution_count": 119,
   "metadata": {},
   "outputs": [
    {
     "data": {
      "text/plain": [
       "Text(0, 0.5, 'Feature Name')"
      ]
     },
     "execution_count": 119,
     "metadata": {},
     "output_type": "execute_result"
    },
    {
     "data": {
      "image/png": "[encoded data removed]",
      "text/plain": [
       "<Figure size 800x500 with 1 Axes>"
      ]
     },
     "metadata": {},
     "output_type": "display_data"
    }
   ],
   "source": [
    "plt.figure(figsize=(8, 5))\n",
    "plt.barh(feature_importance_df['Feature'], feature_importance_df['Importance'], color='skyblue')\n",
    "plt.xlabel('Permutation Importance')\n",
    "plt.ylabel('Feature Name')"
   ]
  },
  {
   "cell_type": "markdown",
   "metadata": {},
   "source": [
    "# Part 6 – Constructing an Optimal Model"
   ]
  },
  {
   "cell_type": "markdown",
   "metadata": {},
   "source": [
    "In this part, I will construct an optimal model for predicting the price of an Airbnb listing in Chicago. I will use the Random Forest Regressor as my machine learning model. I have chosen this model because it is widely used for regression tasks and has a good performance on various datasets. My goal is to predict the price of an Airbnb listing in Chicago based on the given features so that I can set the correct price for future listings based on the features of the listings. Random Forest Regressor is a powerful model that can handle both linear and non-linear relationships between features and the target variable. It works well with numerical dataset. So, choosing Random Forest Regressor is a good choice for this project."
   ]
  },
  {
   "cell_type": "markdown",
   "metadata": {},
   "source": [
    "I will generate a feature set and target variable."
   ]
  },
  {
   "cell_type": "code",
   "execution_count": 120,
   "metadata": {},
   "outputs": [],
   "source": [
    "X = df.drop(columns=[\"price\",\"occupancy_rate\"])  # Features\n",
    "y = df[\"price\"]  # Target variable"
   ]
  },
  {
   "cell_type": "markdown",
   "metadata": {},
   "source": [
    "I will split the dataset into training, validation, and testing sets. I will use validation set to optimize the hyperparameters of the model and select the best model iteratively."
   ]
  },
  {
   "cell_type": "code",
   "execution_count": 121,
   "metadata": {},
   "outputs": [],
   "source": [
    "temp_X, test_X, temp_y, test_y = train_test_split(X, y, test_size=0.2, random_state=42)\n",
    "train_X, val_X, train_y, val_y = train_test_split(temp_X, temp_y, test_size=0.25, random_state=42)"
   ]
  },
  {
   "cell_type": "markdown",
   "metadata": {},
   "source": [
    "First I will train a baseline model using the training set and evaluate its performance on the dataset."
   ]
  },
  {
   "cell_type": "code",
   "execution_count": 122,
   "metadata": {},
   "outputs": [],
   "source": [
    "#Baseline Model\n",
    "baseline_model = RandomForestRegressor(random_state=42)\n",
    "baseline_model.fit(train_X, train_y)\n",
    "preds = baseline_model.predict(val_X)"
   ]
  },
  {
   "cell_type": "code",
   "execution_count": 123,
   "metadata": {},
   "outputs": [
    {
     "name": "stdout",
     "output_type": "stream",
     "text": [
      "Baseline Model Performance:\n",
      "R2 Score: 0.9617112514377937\n",
      "RMSE: 28.74958126528769\n",
      "MAE: 5.6058849171752385\n"
     ]
    }
   ],
   "source": [
    "print(\"Baseline Model Performance:\")\n",
    "print(\"R2 Score:\", r2_score(val_y, preds))\n",
    "print(\"RMSE:\", np.sqrt(mean_squared_error(val_y, preds)))\n",
    "print(\"MAE:\", mean_absolute_error(val_y, preds))\n"
   ]
  },
  {
   "cell_type": "markdown",
   "metadata": {},
   "source": [
    "I found that the baseline model has a relatively high R2 score (0.96) and RMSE score of (28.74) and MAE score of (5.6). I will now perform iterative hyperparameter tuning to find the optimal hyperparameters for the Random Forest Regressor model."
   ]
  },
  {
   "cell_type": "markdown",
   "metadata": {},
   "source": [
    "I have set the parameter grid to search over different combinations of n_estimators (number of trees) and max_depth (maximum depth of the trees). The values I have chosen for n_estimators are 100,200 and for max_depth are 10, 20. I will run the for loop to find the best combination of hyperparameters. I have used validation set to evaluate the performance of each combination of hyperparameters. And I will generate the best combination of hyperparameters which gives the best performance on the validation set."
   ]
  },
  {
   "cell_type": "code",
   "execution_count": 124,
   "metadata": {},
   "outputs": [
    {
     "name": "stdout",
     "output_type": "stream",
     "text": [
      "Best Parameters: {'n_estimators': 200, 'max_depth': 10}\n"
     ]
    }
   ],
   "source": [
    "#Iterative Hyperparameter Tuning\n",
    "param_grid = {\n",
    "    'n_estimators': [100, 200],\n",
    "    'max_depth': [10, 20]\n",
    "}\n",
    "\n",
    "best_score = float(\"inf\")\n",
    "best_params = {}\n",
    "\n",
    "for n in param_grid['n_estimators']:\n",
    "    for depth in param_grid['max_depth']:\n",
    "        \n",
    "        model = RandomForestRegressor(n_estimators=n, max_depth=depth,random_state=42)\n",
    "        model.fit(train_X, train_y)\n",
    "        val_preds = model.predict(val_X)\n",
    "        score = mean_squared_error(val_y, val_preds)\n",
    "        \n",
    "        if score < best_score:\n",
    "            best_score = score\n",
    "            best_params = {'n_estimators': n, 'max_depth': depth}\n",
    "\n",
    "print(\"Best Parameters:\", best_params)"
   ]
  },
  {
   "cell_type": "markdown",
   "metadata": {},
   "source": [
    "After iterative hyperparameter tuning, I found that the best combination of hyperparameters for the Random Forest Regressor model is n_estimators=200 and max_depth=10. I will be using this combination of hyperparameters to train the final model and evaluate its performance on the testing set."
   ]
  },
  {
   "cell_type": "code",
   "execution_count": 125,
   "metadata": {},
   "outputs": [
    {
     "name": "stdout",
     "output_type": "stream",
     "text": [
      "Final Model Test Performance:\n",
      "R2 Score: 0.9777287783211825\n",
      "RMSE: 19.78453799915218\n",
      "MAE: 3.384411818963142\n"
     ]
    }
   ],
   "source": [
    "final_model = RandomForestRegressor(**best_params, random_state=42)\n",
    "final_model.fit(pd.concat([train_X, val_X]), pd.concat([train_y, val_y]))\n",
    "\n",
    "\n",
    "test_preds = final_model.predict(test_X)\n",
    "print(\"Final Model Test Performance:\")\n",
    "print(\"R2 Score:\", r2_score(test_y, test_preds))\n",
    "print(\"RMSE:\", np.sqrt(mean_squared_error(test_y, test_preds)))\n",
    "print(\"MAE:\", mean_absolute_error(test_y, test_preds))\n",
    "\n"
   ]
  },
  {
   "cell_type": "markdown",
   "metadata": {},
   "source": [
    "Comapring the performance of the baseline model with the final model, I found that the final model has a higher R2 score (0.97) and RMSE score of 19 which is lower than the baseline model's RMSE score of 28.74. The final model also has a lower MAE score of 3.38 which is lower than the baseline model's MAE score of 5.6. This indicates that the final model is performing better on the testing set compared to the baseline model. I will save the final model as a joblib file named 'random_forest_regressor.joblib'. This file can be used to make predictions on new data using the trained model."
   ]
  },
  {
   "cell_type": "code",
   "execution_count": 126,
   "metadata": {},
   "outputs": [],
   "source": [
    "import joblib"
   ]
  },
  {
   "cell_type": "code",
   "execution_count": 127,
   "metadata": {},
   "outputs": [
    {
     "data": {
      "text/plain": [
       "['random_forest_regressor.joblib']"
      ]
     },
     "execution_count": 127,
     "metadata": {},
     "output_type": "execute_result"
    }
   ],
   "source": [
    "joblib.dump(final_model, 'random_forest_regressor.joblib')"
   ]
  }
 ],
 "metadata": {
  "kernelspec": {
   "display_name": "Python 3",
   "language": "python",
   "name": "python3"
  },
  "language_info": {
   "codemirror_mode": {
    "name": "ipython",
    "version": 3
   },
   "file_extension": ".py",
   "mimetype": "text/x-python",
   "name": "python",
   "nbconvert_exporter": "python",
   "pygments_lexer": "ipython3",
   "version": "3.11.0"
  }
 },
 "nbformat": 4,
 "nbformat_minor": 2
}
