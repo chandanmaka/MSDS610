{
 "cells": [
  {
   "cell_type": "markdown",
   "metadata": {},
   "source": [
    "## Main Objective is To find the relationship between car prices and body style, size and engine specs & To Find Do Body Style, Size and Engine Specs predict car prices?"
   ]
  },
  {
   "cell_type": "markdown",
   "metadata": {},
   "source": [
    "I had cleaned the data that was retrieved from the database and done some data cleaning and feature engineering in our previous week assignment and saved in csv file named as \"cars.csv\" so, for this assignment I will be uisng that csv data to train our model."
   ]
  },
  {
   "cell_type": "markdown",
   "metadata": {},
   "source": [
    "I had generated 6 features from feature engineering process and the columns are 'fuel_efficiency', 'vehicle_volume', 'engine_power_density', 'performance_index', 'engine_performance','power2weight_ratio'"
   ]
  },
  {
   "cell_type": "markdown",
   "metadata": {},
   "source": [
    "I will be using 3 features in my training phase, column 'performance_index' and 'engine_performance' as mandatory columns because they had good feature imporatance score and other one will be used in random combination and will be decided which one to use after I analysed the performance of the model iteratively. I will keep track of each iteration and find the best combination of 3 features with optimal and best score of the model at the end"
   ]
  },
  {
   "cell_type": "code",
   "execution_count": 1,
   "metadata": {},
   "outputs": [],
   "source": [
    "import pandas as pd\n",
    "import joblib\n",
    "import os\n",
    "from sklearn.ensemble import RandomForestRegressor\n",
    "from sklearn.model_selection import train_test_split\n",
    "from sklearn.metrics import r2_score, mean_absolute_error"
   ]
  },
  {
   "cell_type": "code",
   "execution_count": 2,
   "metadata": {},
   "outputs": [],
   "source": [
    "df = pd.read_csv('cars.csv')\n"
   ]
  },
  {
   "cell_type": "code",
   "execution_count": 3,
   "metadata": {},
   "outputs": [
    {
     "name": "stdout",
     "output_type": "stream",
     "text": [
      "<class 'pandas.core.frame.DataFrame'>\n",
      "RangeIndex: 183 entries, 0 to 182\n",
      "Data columns (total 35 columns):\n",
      " #   Column                Non-Null Count  Dtype  \n",
      "---  ------                --------------  -----  \n",
      " 0   symboling             183 non-null    int64  \n",
      " 1   normalized-losses     183 non-null    float64\n",
      " 2   make                  183 non-null    int64  \n",
      " 3   fuel-type             183 non-null    int64  \n",
      " 4   aspiration            183 non-null    int64  \n",
      " 5   num-of-doors          183 non-null    int64  \n",
      " 6   body-style            183 non-null    int64  \n",
      " 7   drive-wheels          183 non-null    int64  \n",
      " 8   engine-location       183 non-null    int64  \n",
      " 9   wheel-base            183 non-null    float64\n",
      " 10  length                183 non-null    float64\n",
      " 11  width                 183 non-null    float64\n",
      " 12  height                183 non-null    float64\n",
      " 13  curb-weight           183 non-null    int64  \n",
      " 14  engine-type           183 non-null    int64  \n",
      " 15  num-of-cylinders      183 non-null    int64  \n",
      " 16  engine-size           183 non-null    int64  \n",
      " 17  fuel-system           183 non-null    int64  \n",
      " 18  bore                  183 non-null    int64  \n",
      " 19  stroke                183 non-null    int64  \n",
      " 20  compression-ratio     183 non-null    float64\n",
      " 21  horsepower            183 non-null    int64  \n",
      " 22  peak-rpm              183 non-null    int64  \n",
      " 23  city-mpg              183 non-null    int64  \n",
      " 24  highway-mpg           183 non-null    int64  \n",
      " 25  price                 183 non-null    float64\n",
      " 26  num_doors             183 non-null    int64  \n",
      " 27  num_cylinders         183 non-null    int64  \n",
      " 28  engine_size_cc        183 non-null    int64  \n",
      " 29  power2weight_ratio    183 non-null    float64\n",
      " 30  vehicle_volume        183 non-null    float64\n",
      " 31  engine_power_density  183 non-null    float64\n",
      " 32  fuel_efficiency       183 non-null    float64\n",
      " 33  performance_index     183 non-null    float64\n",
      " 34  engine_performance    183 non-null    float64\n",
      "dtypes: float64(13), int64(22)\n",
      "memory usage: 50.2 KB\n"
     ]
    }
   ],
   "source": [
    "df.info()"
   ]
  },
  {
   "cell_type": "code",
   "execution_count": 4,
   "metadata": {},
   "outputs": [
    {
     "data": {
      "text/html": [
       "<div>\n",
       "<style scoped>\n",
       "    .dataframe tbody tr th:only-of-type {\n",
       "        vertical-align: middle;\n",
       "    }\n",
       "\n",
       "    .dataframe tbody tr th {\n",
       "        vertical-align: top;\n",
       "    }\n",
       "\n",
       "    .dataframe thead th {\n",
       "        text-align: right;\n",
       "    }\n",
       "</style>\n",
       "<table border=\"1\" class=\"dataframe\">\n",
       "  <thead>\n",
       "    <tr style=\"text-align: right;\">\n",
       "      <th></th>\n",
       "      <th>symboling</th>\n",
       "      <th>normalized-losses</th>\n",
       "      <th>make</th>\n",
       "      <th>fuel-type</th>\n",
       "      <th>aspiration</th>\n",
       "      <th>num-of-doors</th>\n",
       "      <th>body-style</th>\n",
       "      <th>drive-wheels</th>\n",
       "      <th>engine-location</th>\n",
       "      <th>wheel-base</th>\n",
       "      <th>...</th>\n",
       "      <th>price</th>\n",
       "      <th>num_doors</th>\n",
       "      <th>num_cylinders</th>\n",
       "      <th>engine_size_cc</th>\n",
       "      <th>power2weight_ratio</th>\n",
       "      <th>vehicle_volume</th>\n",
       "      <th>engine_power_density</th>\n",
       "      <th>fuel_efficiency</th>\n",
       "      <th>performance_index</th>\n",
       "      <th>engine_performance</th>\n",
       "    </tr>\n",
       "  </thead>\n",
       "  <tbody>\n",
       "    <tr>\n",
       "      <th>0</th>\n",
       "      <td>2</td>\n",
       "      <td>164.0</td>\n",
       "      <td>0</td>\n",
       "      <td>1</td>\n",
       "      <td>0</td>\n",
       "      <td>0</td>\n",
       "      <td>3</td>\n",
       "      <td>1</td>\n",
       "      <td>0</td>\n",
       "      <td>99.8</td>\n",
       "      <td>...</td>\n",
       "      <td>13950.0</td>\n",
       "      <td>4</td>\n",
       "      <td>4</td>\n",
       "      <td>1786</td>\n",
       "      <td>0.043646</td>\n",
       "      <td>634816.956</td>\n",
       "      <td>0.935780</td>\n",
       "      <td>27.0</td>\n",
       "      <td>240.051348</td>\n",
       "      <td>255.0</td>\n",
       "    </tr>\n",
       "    <tr>\n",
       "      <th>1</th>\n",
       "      <td>2</td>\n",
       "      <td>164.0</td>\n",
       "      <td>0</td>\n",
       "      <td>1</td>\n",
       "      <td>0</td>\n",
       "      <td>0</td>\n",
       "      <td>3</td>\n",
       "      <td>0</td>\n",
       "      <td>0</td>\n",
       "      <td>99.4</td>\n",
       "      <td>...</td>\n",
       "      <td>17450.0</td>\n",
       "      <td>4</td>\n",
       "      <td>5</td>\n",
       "      <td>2228</td>\n",
       "      <td>0.040722</td>\n",
       "      <td>636734.832</td>\n",
       "      <td>0.845588</td>\n",
       "      <td>20.0</td>\n",
       "      <td>223.973088</td>\n",
       "      <td>184.0</td>\n",
       "    </tr>\n",
       "    <tr>\n",
       "      <th>2</th>\n",
       "      <td>2</td>\n",
       "      <td>161.0</td>\n",
       "      <td>0</td>\n",
       "      <td>1</td>\n",
       "      <td>0</td>\n",
       "      <td>1</td>\n",
       "      <td>3</td>\n",
       "      <td>1</td>\n",
       "      <td>0</td>\n",
       "      <td>99.8</td>\n",
       "      <td>...</td>\n",
       "      <td>15250.0</td>\n",
       "      <td>2</td>\n",
       "      <td>5</td>\n",
       "      <td>2228</td>\n",
       "      <td>0.043877</td>\n",
       "      <td>624189.969</td>\n",
       "      <td>0.808824</td>\n",
       "      <td>22.0</td>\n",
       "      <td>241.324292</td>\n",
       "      <td>187.0</td>\n",
       "    </tr>\n",
       "    <tr>\n",
       "      <th>3</th>\n",
       "      <td>1</td>\n",
       "      <td>158.0</td>\n",
       "      <td>0</td>\n",
       "      <td>1</td>\n",
       "      <td>0</td>\n",
       "      <td>0</td>\n",
       "      <td>3</td>\n",
       "      <td>1</td>\n",
       "      <td>0</td>\n",
       "      <td>105.8</td>\n",
       "      <td>...</td>\n",
       "      <td>17710.0</td>\n",
       "      <td>4</td>\n",
       "      <td>5</td>\n",
       "      <td>2228</td>\n",
       "      <td>0.038678</td>\n",
       "      <td>766364.046</td>\n",
       "      <td>0.808824</td>\n",
       "      <td>22.0</td>\n",
       "      <td>212.728551</td>\n",
       "      <td>187.0</td>\n",
       "    </tr>\n",
       "    <tr>\n",
       "      <th>4</th>\n",
       "      <td>1</td>\n",
       "      <td>161.0</td>\n",
       "      <td>0</td>\n",
       "      <td>1</td>\n",
       "      <td>0</td>\n",
       "      <td>0</td>\n",
       "      <td>4</td>\n",
       "      <td>1</td>\n",
       "      <td>0</td>\n",
       "      <td>105.8</td>\n",
       "      <td>...</td>\n",
       "      <td>18920.0</td>\n",
       "      <td>4</td>\n",
       "      <td>5</td>\n",
       "      <td>2228</td>\n",
       "      <td>0.037238</td>\n",
       "      <td>766364.046</td>\n",
       "      <td>0.808824</td>\n",
       "      <td>22.0</td>\n",
       "      <td>204.807041</td>\n",
       "      <td>187.0</td>\n",
       "    </tr>\n",
       "  </tbody>\n",
       "</table>\n",
       "<p>5 rows × 35 columns</p>\n",
       "</div>"
      ],
      "text/plain": [
       "   symboling  normalized-losses  make  fuel-type  aspiration  num-of-doors  \\\n",
       "0          2              164.0     0          1           0             0   \n",
       "1          2              164.0     0          1           0             0   \n",
       "2          2              161.0     0          1           0             1   \n",
       "3          1              158.0     0          1           0             0   \n",
       "4          1              161.0     0          1           0             0   \n",
       "\n",
       "   body-style  drive-wheels  engine-location  wheel-base  ...    price  \\\n",
       "0           3             1                0        99.8  ...  13950.0   \n",
       "1           3             0                0        99.4  ...  17450.0   \n",
       "2           3             1                0        99.8  ...  15250.0   \n",
       "3           3             1                0       105.8  ...  17710.0   \n",
       "4           4             1                0       105.8  ...  18920.0   \n",
       "\n",
       "   num_doors  num_cylinders  engine_size_cc  power2weight_ratio  \\\n",
       "0          4              4            1786            0.043646   \n",
       "1          4              5            2228            0.040722   \n",
       "2          2              5            2228            0.043877   \n",
       "3          4              5            2228            0.038678   \n",
       "4          4              5            2228            0.037238   \n",
       "\n",
       "   vehicle_volume  engine_power_density  fuel_efficiency  performance_index  \\\n",
       "0      634816.956              0.935780             27.0         240.051348   \n",
       "1      636734.832              0.845588             20.0         223.973088   \n",
       "2      624189.969              0.808824             22.0         241.324292   \n",
       "3      766364.046              0.808824             22.0         212.728551   \n",
       "4      766364.046              0.808824             22.0         204.807041   \n",
       "\n",
       "   engine_performance  \n",
       "0               255.0  \n",
       "1               184.0  \n",
       "2               187.0  \n",
       "3               187.0  \n",
       "4               187.0  \n",
       "\n",
       "[5 rows x 35 columns]"
      ]
     },
     "execution_count": 4,
     "metadata": {},
     "output_type": "execute_result"
    }
   ],
   "source": [
    "df.head()"
   ]
  },
  {
   "cell_type": "code",
   "execution_count": 5,
   "metadata": {},
   "outputs": [],
   "source": [
    "df_copy = df"
   ]
  },
  {
   "cell_type": "code",
   "execution_count": 6,
   "metadata": {},
   "outputs": [],
   "source": [
    "df_with_power2weight_ratio = df_copy.drop(columns=['fuel_efficiency', 'vehicle_volume', 'engine_power_density'])"
   ]
  },
  {
   "cell_type": "code",
   "execution_count": 7,
   "metadata": {},
   "outputs": [],
   "source": [
    "df_with_fuel_efficiency = df_copy.drop(columns=['vehicle_volume', 'engine_power_density', 'power2weight_ratio'])"
   ]
  },
  {
   "cell_type": "code",
   "execution_count": 8,
   "metadata": {},
   "outputs": [],
   "source": [
    "df_with_vehicle_volume = df_copy.drop(columns=['fuel_efficiency', 'engine_power_density', 'power2weight_ratio'])"
   ]
  },
  {
   "cell_type": "code",
   "execution_count": 9,
   "metadata": {},
   "outputs": [],
   "source": [
    "df_with_engine_power_density = df_copy.drop(columns=['fuel_efficiency', 'vehicle_volume', 'power2weight_ratio'])"
   ]
  },
  {
   "cell_type": "code",
   "execution_count": 10,
   "metadata": {},
   "outputs": [],
   "source": [
    "# List of DataFrames\n",
    "dfs = {\n",
    "    \"power2weight_ratio\": df_with_power2weight_ratio,\n",
    "    \"fuel_efficiency\": df_with_fuel_efficiency,\n",
    "    \"vehicle_volume\": df_with_vehicle_volume,\n",
    "    \"engine_power_density\": df_with_engine_power_density\n",
    "}"
   ]
  },
  {
   "cell_type": "code",
   "execution_count": 11,
   "metadata": {},
   "outputs": [],
   "source": [
    "results = {}"
   ]
  },
  {
   "cell_type": "markdown",
   "metadata": {},
   "source": [
    "### I will be using Random Forest Regressor as the ML model to predict"
   ]
  },
  {
   "cell_type": "code",
   "execution_count": 12,
   "metadata": {},
   "outputs": [
    {
     "name": "stdout",
     "output_type": "stream",
     "text": [
      "Training model on power2weight_ratio dataset...\n",
      "Training model on fuel_efficiency dataset...\n",
      "Training model on vehicle_volume dataset...\n",
      "Training model on engine_power_density dataset...\n"
     ]
    }
   ],
   "source": [
    "for name, df in dfs.items():\n",
    "    print(f\"Training model on {name} dataset...\")\n",
    "\n",
    "    # Defining features (X) and target (y)\n",
    "    X = df.drop(columns=[\"price\"])\n",
    "    y = df[\"price\"]\n",
    "\n",
    "    # Splitting into training and testing sets\n",
    "    X_train, X_test, y_train, y_test = train_test_split(X, y, test_size=0.2, random_state=42)\n",
    "\n",
    "    # Initializing and training RandomForestRegressor\n",
    "    model = RandomForestRegressor(n_estimators=100, random_state=42)\n",
    "    model.fit(X_train, y_train)\n",
    "\n",
    "    # Predictions\n",
    "    y_pred = model.predict(X_test)\n",
    "\n",
    "    # Evaluating performance\n",
    "    r2 = r2_score(y_test, y_pred)\n",
    "    mae = mean_absolute_error(y_test, y_pred)\n",
    "\n",
    "    # Storing results\n",
    "    results[name] = {\"R² Score\": r2, \"MAE\": mae}"
   ]
  },
  {
   "cell_type": "code",
   "execution_count": 13,
   "metadata": {},
   "outputs": [
    {
     "name": "stdout",
     "output_type": "stream",
     "text": [
      "\n",
      "Model Performance (Best to Worst):\n",
      "\n",
      "Dataset: power2weight_ratio\n",
      "R² Score: 0.9335\n",
      "Mean Absolute Error: 1280.55\n",
      "\n",
      "Dataset: fuel_efficiency\n",
      "R² Score: 0.9324\n",
      "Mean Absolute Error: 1266.35\n",
      "\n",
      "Dataset: engine_power_density\n",
      "R² Score: 0.9310\n",
      "Mean Absolute Error: 1291.10\n",
      "\n",
      "Dataset: vehicle_volume\n",
      "R² Score: 0.9289\n",
      "Mean Absolute Error: 1304.05\n"
     ]
    }
   ],
   "source": [
    "# Sorting results by R² Score in descending order\n",
    "sorted_results = sorted(results.items(), key=lambda x: x[1][\"R² Score\"], reverse=True)\n",
    "\n",
    "# Printing results\n",
    "print(\"\\nModel Performance (Best to Worst):\")\n",
    "for dataset, metrics in sorted_results:\n",
    "    print(f\"\\nDataset: {dataset}\")\n",
    "    print(f\"R² Score: {metrics['R² Score']:.4f}\")\n",
    "    print(f\"Mean Absolute Error: {metrics['MAE']:.2f}\")"
   ]
  },
  {
   "cell_type": "markdown",
   "metadata": {},
   "source": [
    "After multiple iteration I am in concludion that engineered features like 'power2weight_ratio','performance_index' and 'engine_performance' will give me the best and optimal model. I will be using those features to train the model."
   ]
  },
  {
   "cell_type": "code",
   "execution_count": 14,
   "metadata": {},
   "outputs": [
    {
     "data": {
      "text/plain": [
       "['random_forest_model.pkl']"
      ]
     },
     "execution_count": 14,
     "metadata": {},
     "output_type": "execute_result"
    }
   ],
   "source": [
    "\n",
    "df = df_with_power2weight_ratio  # Ensure this dataset is preloaded\n",
    "\n",
    "# Defining features and target variable\n",
    "X = df.drop(columns=['price'])  \n",
    "y = df['price']  \n",
    "\n",
    "# Splitting the data into training (70%), validation (15%), and test (15%) sets\n",
    "X_train, X_temp, y_train, y_temp = train_test_split(X, y, test_size=0.3, random_state=42)\n",
    "X_val, X_test, y_val, y_test = train_test_split(X_temp, y_temp, test_size=0.5, random_state=42)\n",
    "\n",
    "# Saving the validation set\n",
    "val_set = pd.concat([X_val, y_val], axis=1)\n",
    "val_set.to_csv(\"validation_set.csv\", index=False)\n",
    "\n",
    "# Training the RandomForest model\n",
    "rf_model = RandomForestRegressor(n_estimators=100, random_state=42)\n",
    "rf_model.fit(X_train, y_train)\n",
    "\n",
    "# Saving the trained model\n",
    "joblib.dump(rf_model, \"random_forest_model.pkl\")"
   ]
  },
  {
   "cell_type": "markdown",
   "metadata": {},
   "source": [
    "The dataset is split into training (70%), validation (15%), and test (15%) sets. After training a Random Forest Regressor model, the validation set and the trained model are saved for future use."
   ]
  },
  {
   "cell_type": "code",
   "execution_count": null,
   "metadata": {},
   "outputs": [],
   "source": []
  }
 ],
 "metadata": {
  "kernelspec": {
   "display_name": "Python 3",
   "language": "python",
   "name": "python3"
  },
  "language_info": {
   "codemirror_mode": {
    "name": "ipython",
    "version": 3
   },
   "file_extension": ".py",
   "mimetype": "text/x-python",
   "name": "python",
   "nbconvert_exporter": "python",
   "pygments_lexer": "ipython3",
   "version": "3.11.0"
  }
 },
 "nbformat": 4,
 "nbformat_minor": 2
}
