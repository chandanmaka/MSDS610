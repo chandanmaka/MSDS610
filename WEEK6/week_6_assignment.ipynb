{
 "cells": [
  {
   "cell_type": "markdown",
   "metadata": {},
   "source": [
    "## Main Objective is To find the relationship between car prices and body style, size and engine specs & To Find Do Body Style, Size and Engine Specs predict car prices?"
   ]
  },
  {
   "cell_type": "markdown",
   "metadata": {},
   "source": [
    "I had cleaned the data that was retrieved from the database and done some data cleaning and feature engineering in our previous week assignment and saved in csv file named as \"cars.csv\" so, for this assignment I will be uisng that csv data to train our model."
   ]
  },
  {
   "cell_type": "markdown",
   "metadata": {},
   "source": [
    "I had generated 6 features from feature engineering process and the columns are 'fuel_efficiency', 'vehicle_volume', 'engine_power_density', 'performance_index', 'engine_performance','power2weight_ratio'"
   ]
  },
  {
   "cell_type": "markdown",
   "metadata": {},
   "source": [
    "I will be using 3 features in my training phase, column 'performance_index' and 'engine_performance' as mandatory columns because they had good feature imporatance score and other one will be 'power2weight_ratio'."
   ]
  },
  {
   "cell_type": "code",
   "execution_count": 31,
   "metadata": {},
   "outputs": [],
   "source": [
    "import pandas as pd\n",
    "import joblib\n",
    "import os\n",
    "from sklearn.ensemble import RandomForestRegressor\n",
    "from sklearn.svm import SVR\n",
    "from sklearn.linear_model import Ridge\n",
    "from sklearn.model_selection import train_test_split\n",
    "from sklearn.metrics import r2_score, mean_absolute_error\n",
    "from skopt import BayesSearchCV"
   ]
  },
  {
   "cell_type": "code",
   "execution_count": 32,
   "metadata": {},
   "outputs": [],
   "source": [
    "df = pd.read_csv('cars.csv')\n"
   ]
  },
  {
   "cell_type": "code",
   "execution_count": 33,
   "metadata": {},
   "outputs": [
    {
     "name": "stdout",
     "output_type": "stream",
     "text": [
      "<class 'pandas.core.frame.DataFrame'>\n",
      "RangeIndex: 183 entries, 0 to 182\n",
      "Data columns (total 35 columns):\n",
      " #   Column                Non-Null Count  Dtype  \n",
      "---  ------                --------------  -----  \n",
      " 0   symboling             183 non-null    int64  \n",
      " 1   normalized-losses     183 non-null    float64\n",
      " 2   make                  183 non-null    int64  \n",
      " 3   fuel-type             183 non-null    int64  \n",
      " 4   aspiration            183 non-null    int64  \n",
      " 5   num-of-doors          183 non-null    int64  \n",
      " 6   body-style            183 non-null    int64  \n",
      " 7   drive-wheels          183 non-null    int64  \n",
      " 8   engine-location       183 non-null    int64  \n",
      " 9   wheel-base            183 non-null    float64\n",
      " 10  length                183 non-null    float64\n",
      " 11  width                 183 non-null    float64\n",
      " 12  height                183 non-null    float64\n",
      " 13  curb-weight           183 non-null    int64  \n",
      " 14  engine-type           183 non-null    int64  \n",
      " 15  num-of-cylinders      183 non-null    int64  \n",
      " 16  engine-size           183 non-null    int64  \n",
      " 17  fuel-system           183 non-null    int64  \n",
      " 18  bore                  183 non-null    int64  \n",
      " 19  stroke                183 non-null    int64  \n",
      " 20  compression-ratio     183 non-null    float64\n",
      " 21  horsepower            183 non-null    int64  \n",
      " 22  peak-rpm              183 non-null    int64  \n",
      " 23  city-mpg              183 non-null    int64  \n",
      " 24  highway-mpg           183 non-null    int64  \n",
      " 25  price                 183 non-null    float64\n",
      " 26  num_doors             183 non-null    int64  \n",
      " 27  num_cylinders         183 non-null    int64  \n",
      " 28  engine_size_cc        183 non-null    int64  \n",
      " 29  power2weight_ratio    183 non-null    float64\n",
      " 30  vehicle_volume        183 non-null    float64\n",
      " 31  engine_power_density  183 non-null    float64\n",
      " 32  fuel_efficiency       183 non-null    float64\n",
      " 33  performance_index     183 non-null    float64\n",
      " 34  engine_performance    183 non-null    float64\n",
      "dtypes: float64(13), int64(22)\n",
      "memory usage: 50.2 KB\n"
     ]
    }
   ],
   "source": [
    "df.info()"
   ]
  },
  {
   "cell_type": "code",
   "execution_count": 34,
   "metadata": {},
   "outputs": [
    {
     "data": {
      "text/html": [
       "<div>\n",
       "<style scoped>\n",
       "    .dataframe tbody tr th:only-of-type {\n",
       "        vertical-align: middle;\n",
       "    }\n",
       "\n",
       "    .dataframe tbody tr th {\n",
       "        vertical-align: top;\n",
       "    }\n",
       "\n",
       "    .dataframe thead th {\n",
       "        text-align: right;\n",
       "    }\n",
       "</style>\n",
       "<table border=\"1\" class=\"dataframe\">\n",
       "  <thead>\n",
       "    <tr style=\"text-align: right;\">\n",
       "      <th></th>\n",
       "      <th>symboling</th>\n",
       "      <th>normalized-losses</th>\n",
       "      <th>make</th>\n",
       "      <th>fuel-type</th>\n",
       "      <th>aspiration</th>\n",
       "      <th>num-of-doors</th>\n",
       "      <th>body-style</th>\n",
       "      <th>drive-wheels</th>\n",
       "      <th>engine-location</th>\n",
       "      <th>wheel-base</th>\n",
       "      <th>...</th>\n",
       "      <th>price</th>\n",
       "      <th>num_doors</th>\n",
       "      <th>num_cylinders</th>\n",
       "      <th>engine_size_cc</th>\n",
       "      <th>power2weight_ratio</th>\n",
       "      <th>vehicle_volume</th>\n",
       "      <th>engine_power_density</th>\n",
       "      <th>fuel_efficiency</th>\n",
       "      <th>performance_index</th>\n",
       "      <th>engine_performance</th>\n",
       "    </tr>\n",
       "  </thead>\n",
       "  <tbody>\n",
       "    <tr>\n",
       "      <th>0</th>\n",
       "      <td>2</td>\n",
       "      <td>164.0</td>\n",
       "      <td>0</td>\n",
       "      <td>1</td>\n",
       "      <td>0</td>\n",
       "      <td>0</td>\n",
       "      <td>3</td>\n",
       "      <td>1</td>\n",
       "      <td>0</td>\n",
       "      <td>99.8</td>\n",
       "      <td>...</td>\n",
       "      <td>13950.0</td>\n",
       "      <td>4</td>\n",
       "      <td>4</td>\n",
       "      <td>1786</td>\n",
       "      <td>0.043646</td>\n",
       "      <td>634816.956</td>\n",
       "      <td>0.935780</td>\n",
       "      <td>27.0</td>\n",
       "      <td>240.051348</td>\n",
       "      <td>255.0</td>\n",
       "    </tr>\n",
       "    <tr>\n",
       "      <th>1</th>\n",
       "      <td>2</td>\n",
       "      <td>164.0</td>\n",
       "      <td>0</td>\n",
       "      <td>1</td>\n",
       "      <td>0</td>\n",
       "      <td>0</td>\n",
       "      <td>3</td>\n",
       "      <td>0</td>\n",
       "      <td>0</td>\n",
       "      <td>99.4</td>\n",
       "      <td>...</td>\n",
       "      <td>17450.0</td>\n",
       "      <td>4</td>\n",
       "      <td>5</td>\n",
       "      <td>2228</td>\n",
       "      <td>0.040722</td>\n",
       "      <td>636734.832</td>\n",
       "      <td>0.845588</td>\n",
       "      <td>20.0</td>\n",
       "      <td>223.973088</td>\n",
       "      <td>184.0</td>\n",
       "    </tr>\n",
       "    <tr>\n",
       "      <th>2</th>\n",
       "      <td>2</td>\n",
       "      <td>161.0</td>\n",
       "      <td>0</td>\n",
       "      <td>1</td>\n",
       "      <td>0</td>\n",
       "      <td>1</td>\n",
       "      <td>3</td>\n",
       "      <td>1</td>\n",
       "      <td>0</td>\n",
       "      <td>99.8</td>\n",
       "      <td>...</td>\n",
       "      <td>15250.0</td>\n",
       "      <td>2</td>\n",
       "      <td>5</td>\n",
       "      <td>2228</td>\n",
       "      <td>0.043877</td>\n",
       "      <td>624189.969</td>\n",
       "      <td>0.808824</td>\n",
       "      <td>22.0</td>\n",
       "      <td>241.324292</td>\n",
       "      <td>187.0</td>\n",
       "    </tr>\n",
       "    <tr>\n",
       "      <th>3</th>\n",
       "      <td>1</td>\n",
       "      <td>158.0</td>\n",
       "      <td>0</td>\n",
       "      <td>1</td>\n",
       "      <td>0</td>\n",
       "      <td>0</td>\n",
       "      <td>3</td>\n",
       "      <td>1</td>\n",
       "      <td>0</td>\n",
       "      <td>105.8</td>\n",
       "      <td>...</td>\n",
       "      <td>17710.0</td>\n",
       "      <td>4</td>\n",
       "      <td>5</td>\n",
       "      <td>2228</td>\n",
       "      <td>0.038678</td>\n",
       "      <td>766364.046</td>\n",
       "      <td>0.808824</td>\n",
       "      <td>22.0</td>\n",
       "      <td>212.728551</td>\n",
       "      <td>187.0</td>\n",
       "    </tr>\n",
       "    <tr>\n",
       "      <th>4</th>\n",
       "      <td>1</td>\n",
       "      <td>161.0</td>\n",
       "      <td>0</td>\n",
       "      <td>1</td>\n",
       "      <td>0</td>\n",
       "      <td>0</td>\n",
       "      <td>4</td>\n",
       "      <td>1</td>\n",
       "      <td>0</td>\n",
       "      <td>105.8</td>\n",
       "      <td>...</td>\n",
       "      <td>18920.0</td>\n",
       "      <td>4</td>\n",
       "      <td>5</td>\n",
       "      <td>2228</td>\n",
       "      <td>0.037238</td>\n",
       "      <td>766364.046</td>\n",
       "      <td>0.808824</td>\n",
       "      <td>22.0</td>\n",
       "      <td>204.807041</td>\n",
       "      <td>187.0</td>\n",
       "    </tr>\n",
       "  </tbody>\n",
       "</table>\n",
       "<p>5 rows × 35 columns</p>\n",
       "</div>"
      ],
      "text/plain": [
       "   symboling  normalized-losses  make  fuel-type  aspiration  num-of-doors  \\\n",
       "0          2              164.0     0          1           0             0   \n",
       "1          2              164.0     0          1           0             0   \n",
       "2          2              161.0     0          1           0             1   \n",
       "3          1              158.0     0          1           0             0   \n",
       "4          1              161.0     0          1           0             0   \n",
       "\n",
       "   body-style  drive-wheels  engine-location  wheel-base  ...    price  \\\n",
       "0           3             1                0        99.8  ...  13950.0   \n",
       "1           3             0                0        99.4  ...  17450.0   \n",
       "2           3             1                0        99.8  ...  15250.0   \n",
       "3           3             1                0       105.8  ...  17710.0   \n",
       "4           4             1                0       105.8  ...  18920.0   \n",
       "\n",
       "   num_doors  num_cylinders  engine_size_cc  power2weight_ratio  \\\n",
       "0          4              4            1786            0.043646   \n",
       "1          4              5            2228            0.040722   \n",
       "2          2              5            2228            0.043877   \n",
       "3          4              5            2228            0.038678   \n",
       "4          4              5            2228            0.037238   \n",
       "\n",
       "   vehicle_volume  engine_power_density  fuel_efficiency  performance_index  \\\n",
       "0      634816.956              0.935780             27.0         240.051348   \n",
       "1      636734.832              0.845588             20.0         223.973088   \n",
       "2      624189.969              0.808824             22.0         241.324292   \n",
       "3      766364.046              0.808824             22.0         212.728551   \n",
       "4      766364.046              0.808824             22.0         204.807041   \n",
       "\n",
       "   engine_performance  \n",
       "0               255.0  \n",
       "1               184.0  \n",
       "2               187.0  \n",
       "3               187.0  \n",
       "4               187.0  \n",
       "\n",
       "[5 rows x 35 columns]"
      ]
     },
     "execution_count": 34,
     "metadata": {},
     "output_type": "execute_result"
    }
   ],
   "source": [
    "df.head()"
   ]
  },
  {
   "cell_type": "code",
   "execution_count": 35,
   "metadata": {},
   "outputs": [],
   "source": [
    "df_copy = df"
   ]
  },
  {
   "cell_type": "code",
   "execution_count": 36,
   "metadata": {},
   "outputs": [],
   "source": [
    "df_with_power2weight_ratio = df_copy.drop(columns=['fuel_efficiency', 'vehicle_volume', 'engine_power_density'])"
   ]
  },
  {
   "cell_type": "markdown",
   "metadata": {},
   "source": [
    "### I will be defining different search space to find the optimal model and using the bayesian technique in iteration to find the optimal model"
   ]
  },
  {
   "cell_type": "code",
   "execution_count": 37,
   "metadata": {},
   "outputs": [],
   "source": [
    "\n",
    "df = df_with_power2weight_ratio  # Ensure this dataset is preloaded\n",
    "\n",
    "# Defining features and target variable\n",
    "X = df.drop(columns=['price'])  \n",
    "y = df['price']  \n",
    "\n",
    "# Splitting the data into training (70%), validation (15%), and test (15%) sets\n",
    "X_train, X_temp, y_train, y_temp = train_test_split(X, y, test_size=0.3, random_state=42)\n",
    "X_val, X_test, y_val, y_test = train_test_split(X_temp, y_temp, test_size=0.5, random_state=42)\n",
    "\n",
    "# Saving the validation set\n",
    "val_set = pd.concat([X_val, y_val], axis=1)\n",
    "val_set.to_csv(\"validation_set.csv\", index=False)\n",
    "\n"
   ]
  },
  {
   "cell_type": "markdown",
   "metadata": {},
   "source": [
    "The dataset is split into training (70%), validation (15%), and test (15%) sets."
   ]
  },
  {
   "cell_type": "markdown",
   "metadata": {},
   "source": [
    "Defining search space for optimization for different models "
   ]
  },
  {
   "cell_type": "code",
   "execution_count": 38,
   "metadata": {},
   "outputs": [],
   "source": [
    "\n",
    "models = {\n",
    "    'RandomForest': RandomForestRegressor(random_state=42),\n",
    "    'SVR': SVR(),\n",
    "    'Ridge': Ridge()\n",
    "}\n",
    "\n",
    "search_spaces = {\n",
    "    'RandomForest': {\n",
    "        'n_estimators': (10, 200),\n",
    "        'max_depth': (3, 30),\n",
    "    },\n",
    "    'SVR': {\n",
    "        'C': (0.1, 1000, 'log-uniform'),\n",
    "        'epsilon': (0.01, 1.0, 'uniform'),\n",
    "    },\n",
    "    'Ridge': {\n",
    "        'alpha': (0.1, 10, 'log-uniform'),\n",
    "    }\n",
    "}\n"
   ]
  },
  {
   "cell_type": "markdown",
   "metadata": {},
   "source": [
    "Performing Bayesian optimization"
   ]
  },
  {
   "cell_type": "code",
   "execution_count": 39,
   "metadata": {},
   "outputs": [],
   "source": [
    "def bayesian_optimize(model, search_space):\n",
    "    opt = BayesSearchCV(\n",
    "        estimator=model,\n",
    "        search_spaces=search_space,\n",
    "        n_iter=30,\n",
    "        cv=3,\n",
    "        n_jobs=-1,\n",
    "        random_state=42\n",
    "    )\n",
    "    opt.fit(X_train, y_train)\n",
    "    return opt.best_estimator_\n",
    "\n",
    "best_models = {name: bayesian_optimize(models[name], search_spaces[name]) for name in models}\n"
   ]
  },
  {
   "cell_type": "markdown",
   "metadata": {},
   "source": [
    "Evaluating the best model"
   ]
  },
  {
   "cell_type": "code",
   "execution_count": 40,
   "metadata": {},
   "outputs": [
    {
     "name": "stdout",
     "output_type": "stream",
     "text": [
      "Best Model: RandomForest\n",
      "R2 Score: 0.9257043244883915\n",
      "MAE: 1483.9225147776403\n"
     ]
    }
   ],
   "source": [
    "best_model_name = max(best_models, key=lambda name: r2_score(y_val, best_models[name].predict(X_val)))\n",
    "best_model = best_models[best_model_name]\n",
    "y_pred = best_model.predict(X_test)\n",
    "\n",
    "print(f'Best Model: {best_model_name}')\n",
    "print(f'R2 Score: {r2_score(y_test, y_pred)}')\n",
    "print(f'MAE: {mean_absolute_error(y_test, y_pred)}')\n"
   ]
  },
  {
   "cell_type": "markdown",
   "metadata": {},
   "source": [
    "Saving the model"
   ]
  },
  {
   "cell_type": "code",
   "execution_count": 41,
   "metadata": {},
   "outputs": [
    {
     "data": {
      "text/plain": [
       "['best_randomforest_model.pkl']"
      ]
     },
     "execution_count": 41,
     "metadata": {},
     "output_type": "execute_result"
    }
   ],
   "source": [
    "joblib.dump(best_model, f'best_{best_model_name.lower()}_model.pkl')"
   ]
  },
  {
   "cell_type": "code",
   "execution_count": null,
   "metadata": {},
   "outputs": [],
   "source": []
  }
 ],
 "metadata": {
  "kernelspec": {
   "display_name": "Python 3",
   "language": "python",
   "name": "python3"
  },
  "language_info": {
   "codemirror_mode": {
    "name": "ipython",
    "version": 3
   },
   "file_extension": ".py",
   "mimetype": "text/x-python",
   "name": "python",
   "nbconvert_exporter": "python",
   "pygments_lexer": "ipython3",
   "version": "3.11.0"
  }
 },
 "nbformat": 4,
 "nbformat_minor": 2
}
